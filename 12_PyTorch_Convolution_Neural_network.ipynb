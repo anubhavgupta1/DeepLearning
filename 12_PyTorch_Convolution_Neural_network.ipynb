{
  "nbformat": 4,
  "nbformat_minor": 0,
  "metadata": {
    "colab": {
      "name": "12_PyTorch_Convolution_Neural_network.ipynb",
      "provenance": [],
      "include_colab_link": true
    },
    "kernelspec": {
      "name": "python3",
      "display_name": "Python 3"
    }
  },
  "cells": [
    {
      "cell_type": "markdown",
      "metadata": {
        "id": "view-in-github",
        "colab_type": "text"
      },
      "source": [
        "<a href=\"https://colab.research.google.com/github/anubhavgupta1/DeepLearning/blob/master/12_PyTorch_Convolution_Neural_network.ipynb\" target=\"_parent\"><img src=\"https://colab.research.google.com/assets/colab-badge.svg\" alt=\"Open In Colab\"/></a>"
      ]
    },
    {
      "cell_type": "markdown",
      "metadata": {
        "id": "6yY-u1fMO3se",
        "colab_type": "text"
      },
      "source": [
        "## Outline\n",
        "\n",
        "* Downloading dataset (CIFAR10)\n",
        "* `Dataloader` in `torch.utils`\n",
        "* Visualising images\n",
        "* Single and multiple convolutional layers\n",
        "* LeNet\n",
        "* Training LeNet\n",
        "* Training on GPU\n",
        "* Simple visualisation\n"
      ]
    },
    {
      "cell_type": "code",
      "metadata": {
        "id": "ebTDFe6qZOS6",
        "colab_type": "code",
        "colab": {}
      },
      "source": [
        "import torch\n",
        "import matplotlib.pyplot as plt\n",
        "import numpy as np"
      ],
      "execution_count": 0,
      "outputs": []
    },
    {
      "cell_type": "markdown",
      "metadata": {
        "id": "v3RZSgGLO9iY",
        "colab_type": "text"
      },
      "source": [
        "## Data loading"
      ]
    },
    {
      "cell_type": "code",
      "metadata": {
        "id": "fOgFtnl2ZXsx",
        "colab_type": "code",
        "outputId": "e74ed68b-b433-4fc5-cffe-951a9224aca1",
        "colab": {
          "base_uri": "https://localhost:8080/",
          "height": 50
        }
      },
      "source": [
        "import torchvision # used for computer vision tasks\n",
        "import torchvision.transforms as transforms\n",
        "trainset = torchvision.datasets.CIFAR10(root='./data', train=True, \n",
        "                                        download=True, \n",
        "                                        transform=transforms.ToTensor()) "
      ],
      "execution_count": 2,
      "outputs": [
        {
          "output_type": "stream",
          "text": [
            "\r0it [00:00, ?it/s]"
          ],
          "name": "stderr"
        },
        {
          "output_type": "stream",
          "text": [
            "Downloading https://www.cs.toronto.edu/~kriz/cifar-10-python.tar.gz to ./data/cifar-10-python.tar.gz\n"
          ],
          "name": "stdout"
        },
        {
          "output_type": "stream",
          "text": [
            " 99%|█████████▉| 168632320/170498071 [00:17<00:00, 17210152.72it/s]"
          ],
          "name": "stderr"
        },
        {
          "output_type": "stream",
          "text": [
            "Extracting ./data/cifar-10-python.tar.gz to ./data\n"
          ],
          "name": "stdout"
        }
      ]
    },
    {
      "cell_type": "code",
      "metadata": {
        "id": "tjT-1-Uba1n-",
        "colab_type": "code",
        "colab": {}
      },
      "source": [
        "classes = ('plane', 'car', 'bird', 'cat', 'deer', 'dog', 'frog', 'horse', 'ship', 'truck') # 0 1 2 3 4 5 6 7 8 9"
      ],
      "execution_count": 0,
      "outputs": []
    },
    {
      "cell_type": "code",
      "metadata": {
        "id": "OQu01iBxfpxN",
        "colab_type": "code",
        "colab": {}
      },
      "source": [
        "# 6000 images 5 batches of training = 5000 1 batch of test = 1000"
      ],
      "execution_count": 0,
      "outputs": []
    },
    {
      "cell_type": "code",
      "metadata": {
        "id": "dpU3_h-JaFi_",
        "colab_type": "code",
        "colab": {}
      },
      "source": [
        "trainloader = torch.utils.data.DataLoader(trainset, batch_size=4, shuffle=True) # loads 4 images from trainset which are shuffled randomly; 5000/4 = 1250 batches"
      ],
      "execution_count": 0,
      "outputs": []
    },
    {
      "cell_type": "code",
      "metadata": {
        "id": "TGkggskRaXhz",
        "colab_type": "code",
        "outputId": "ad2ad793-f474-4f2a-d89d-02e6b472c8df",
        "colab": {
          "base_uri": "https://localhost:8080/",
          "height": 84
        }
      },
      "source": [
        "dataiter = iter(trainloader) # iter function will iterate over trainloader\n",
        "images, labels = dataiter.next() # it will return next instance(batch) of 4 images\n",
        "\n",
        "print(images.shape)\n",
        "\n",
        "print(images[0].shape)\n",
        "print(images[1].shape)\n",
        "print(labels[1].item())"
      ],
      "execution_count": 6,
      "outputs": [
        {
          "output_type": "stream",
          "text": [
            "torch.Size([4, 3, 32, 32])\n",
            "torch.Size([3, 32, 32])\n",
            "torch.Size([3, 32, 32])\n",
            "6\n"
          ],
          "name": "stdout"
        }
      ]
    },
    {
      "cell_type": "markdown",
      "metadata": {
        "id": "bQTsI03XPGId",
        "colab_type": "text"
      },
      "source": [
        "## Visualise data"
      ]
    },
    {
      "cell_type": "code",
      "metadata": {
        "id": "RMLgzgf8PtN9",
        "colab_type": "code",
        "outputId": "274aa1b8-0694-4260-dbf9-07dc4ccd0e78",
        "colab": {
          "base_uri": "https://localhost:8080/",
          "height": 34
        }
      },
      "source": [
        "img = images[1]\n",
        "print(type(img))"
      ],
      "execution_count": 7,
      "outputs": [
        {
          "output_type": "stream",
          "text": [
            "<class 'torch.Tensor'>\n"
          ],
          "name": "stdout"
        }
      ]
    },
    {
      "cell_type": "code",
      "metadata": {
        "id": "mXeB_gG9QIIW",
        "colab_type": "code",
        "outputId": "5eeb8c1e-d868-4a99-f2d5-d1e804ac5540",
        "colab": {
          "base_uri": "https://localhost:8080/",
          "height": 34
        }
      },
      "source": [
        "# for plotting we need to conver tensor into numpy\n",
        "npimg = img.numpy()\n",
        "print(npimg.shape) # x =0, y = 1 , z = 2"
      ],
      "execution_count": 8,
      "outputs": [
        {
          "output_type": "stream",
          "text": [
            "(3, 32, 32)\n"
          ],
          "name": "stdout"
        }
      ]
    },
    {
      "cell_type": "code",
      "metadata": {
        "id": "T7MfJdNAQKmy",
        "colab_type": "code",
        "outputId": "2b3063e6-3b37-449b-e35d-1020b3e62574",
        "colab": {
          "base_uri": "https://localhost:8080/",
          "height": 34
        }
      },
      "source": [
        "# for plotting we need to transpose it; transpose means to flip the rows and columns\n",
        "npimg = np.transpose(npimg, (1, 2, 0)) # y z z\n",
        "print(npimg.shape)"
      ],
      "execution_count": 9,
      "outputs": [
        {
          "output_type": "stream",
          "text": [
            "(32, 32, 3)\n"
          ],
          "name": "stdout"
        }
      ]
    },
    {
      "cell_type": "code",
      "metadata": {
        "id": "Xjh0IJNIQS4G",
        "colab_type": "code",
        "outputId": "fd65ca03-98a9-48d8-fb5b-e86a1bf15c73",
        "colab": {
          "base_uri": "https://localhost:8080/",
          "height": 105
        }
      },
      "source": [
        "plt.figure(figsize = (1,1)) # 32 x 32 ---> 1 x 1\n",
        "plt.imshow(npimg)\n",
        "plt.show()"
      ],
      "execution_count": 10,
      "outputs": [
        {
          "output_type": "display_data",
          "data": {
            "image/png": "[encoded data removed]",
            "text/plain": [
              "<Figure size 72x72 with 1 Axes>"
            ]
          },
          "metadata": {
            "tags": []
          }
        }
      ]
    },
    {
      "cell_type": "code",
      "metadata": {
        "id": "ItDj5P3xZrX3",
        "colab_type": "code",
        "colab": {}
      },
      "source": [
        "def imshow(img):\n",
        "    npimg = img.numpy()\n",
        "    plt.figure(figsize = (4,4))\n",
        "    plt.imshow(np.transpose(npimg, (1, 2, 0)))\n",
        "    plt.show()"
      ],
      "execution_count": 0,
      "outputs": []
    },
    {
      "cell_type": "code",
      "metadata": {
        "id": "vX2OhQjVhFVT",
        "colab_type": "code",
        "outputId": "ac38af61-a939-4bf7-e83e-a099fad674ce",
        "colab": {
          "base_uri": "https://localhost:8080/",
          "height": 126
        }
      },
      "source": [
        "# it will make one image of 4 images and each image image will be shown in individual frame; \n",
        "# makes a singe grid out of a provided tensor containing a list of images of the same size\n",
        "imshow(torchvision.utils.make_grid(images)) \n",
        "print(' '.join(classes[labels[j]] for j in range(4))) #print actual labels"
      ],
      "execution_count": 12,
      "outputs": [
        {
          "output_type": "display_data",
          "data": {
            "image/png": "[encoded data removed]",
            "text/plain": [
              "<Figure size 288x288 with 1 Axes>"
            ]
          },
          "metadata": {
            "tags": []
          }
        },
        {
          "output_type": "stream",
          "text": [
            "cat frog frog car\n"
          ],
          "name": "stdout"
        }
      ]
    },
    {
      "cell_type": "markdown",
      "metadata": {
        "id": "KIP5NFfgQfNo",
        "colab_type": "text"
      },
      "source": [
        "## Single Convolutional Layer"
      ]
    },
    {
      "cell_type": "code",
      "metadata": {
        "id": "rehaPwlqaapX",
        "colab_type": "code",
        "colab": {}
      },
      "source": [
        "import torch.nn as nn\n",
        "\n",
        "class FirstCNN(nn.Module):\n",
        "    def __init__(self): \n",
        "        super(FirstCNN, self).__init__()\n",
        "        self.conv1 = nn.Conv2d(3, 16, 3) #param1 = 3 which is no. of input channels(RGB); param2 = 16 no of output channels param3 = f = 3 (3 x 3 x 16)   ; k = 16\n",
        "                                        #padding = f/2 = 3/2 = 1\n",
        "        \n",
        "    def forward(self, x):\n",
        "        x = self.conv1(x)\n",
        "        return x"
      ],
      "execution_count": 0,
      "outputs": []
    },
    {
      "cell_type": "code",
      "metadata": {
        "id": "Gj33mJuCg8w-",
        "colab_type": "code",
        "colab": {}
      },
      "source": [
        "net = FirstCNN()"
      ],
      "execution_count": 0,
      "outputs": []
    },
    {
      "cell_type": "code",
      "metadata": {
        "id": "BnAWY2-qg9jR",
        "colab_type": "code",
        "outputId": "124610aa-c661-45ae-df08-e245b635987b",
        "colab": {
          "base_uri": "https://localhost:8080/",
          "height": 34
        }
      },
      "source": [
        "out = net(images)\n",
        "out.shape # wo = wi - f + 1 ; 32 - 3 + 1 = 30"
      ],
      "execution_count": 79,
      "outputs": [
        {
          "output_type": "execute_result",
          "data": {
            "text/plain": [
              "torch.Size([4, 16, 30, 30])"
            ]
          },
          "metadata": {
            "tags": []
          },
          "execution_count": 79
        }
      ]
    },
    {
      "cell_type": "code",
      "metadata": {
        "id": "8iXxWFV9W9bA",
        "colab_type": "code",
        "colab": {}
      },
      "source": [
        "def find_parameters(x):\n",
        "  total_parameters = 0\n",
        "  for param in x:\n",
        "    a = param.shape\n",
        "    print(a)\n",
        "    i = 0\n",
        "    temp = 1\n",
        "    while i < len(a):\n",
        "      temp = temp * a[i]\n",
        "      i = i + 1\n",
        "    total_parameters = total_parameters + temp\n",
        "  print(\"Total Parameters = \",total_parameters)\n",
        "\n"
      ],
      "execution_count": 0,
      "outputs": []
    },
    {
      "cell_type": "code",
      "metadata": {
        "id": "ynP7midTjfIn",
        "colab_type": "code",
        "outputId": "cee58ef7-a70f-4c62-dd36-66e0a7168688",
        "colab": {
          "base_uri": "https://localhost:8080/",
          "height": 67
        }
      },
      "source": [
        "find_parameters(net.parameters()) # output channels = 16, channel depth = 3 , filter size = 3 x 3  + bias for each kernel => total bias weight = 16"
      ],
      "execution_count": 81,
      "outputs": [
        {
          "output_type": "stream",
          "text": [
            "torch.Size([16, 3, 3, 3])\n",
            "torch.Size([16])\n",
            "Total Parameters =  448\n"
          ],
          "name": "stdout"
        }
      ]
    },
    {
      "cell_type": "code",
      "metadata": {
        "id": "aBYgoxzEia-D",
        "colab_type": "code",
        "outputId": "6f5f2d5b-6ecc-4649-e8b1-6f4e53298998",
        "colab": {
          "base_uri": "https://localhost:8080/",
          "height": 34
        }
      },
      "source": [
        "out1 = out[0, 0, :, :].detach().numpy() # 0th batch 0th channel all 30 x 30\n",
        "print(out1.shape)"
      ],
      "execution_count": 53,
      "outputs": [
        {
          "output_type": "stream",
          "text": [
            "(30, 30)\n"
          ],
          "name": "stdout"
        }
      ]
    },
    {
      "cell_type": "code",
      "metadata": {
        "id": "FG8Mqfw5i7hP",
        "colab_type": "code",
        "outputId": "b4351bfa-8004-439f-c112-56336b756e4a",
        "colab": {
          "base_uri": "https://localhost:8080/",
          "height": 105
        }
      },
      "source": [
        "plt.figure(figsize = (1,1))\n",
        "plt.imshow(out1)\n",
        "plt.show()"
      ],
      "execution_count": 54,
      "outputs": [
        {
          "output_type": "display_data",
          "data": {
            "image/png": "[encoded data removed]",
            "text/plain": [
              "<Figure size 72x72 with 1 Axes>"
            ]
          },
          "metadata": {
            "tags": []
          }
        }
      ]
    },
    {
      "cell_type": "code",
      "metadata": {
        "colab_type": "code",
        "id": "SppXPiNfIILn",
        "colab": {}
      },
      "source": [
        "import torch.nn as nn\n",
        "\n",
        "class FirstCNN_1(nn.Module):\n",
        "    def __init__(self): \n",
        "        super(FirstCNN_1, self).__init__()\n",
        "        self.conv1 = nn.Conv2d(3, 16, 3, padding=(1,1), stride = (2,2)) \n",
        "        \n",
        "    def forward(self, x):\n",
        "        x = self.conv1(x)\n",
        "        return x"
      ],
      "execution_count": 0,
      "outputs": []
    },
    {
      "cell_type": "code",
      "metadata": {
        "colab_type": "code",
        "id": "ZN3Iy1WkITbH",
        "colab": {}
      },
      "source": [
        "net1 = FirstCNN_1()"
      ],
      "execution_count": 0,
      "outputs": []
    },
    {
      "cell_type": "code",
      "metadata": {
        "id": "Si3Tv1JFIbHP",
        "colab_type": "code",
        "outputId": "6f3b1bcc-ffdb-481c-9d49-9692a1c95eab",
        "colab": {
          "base_uri": "https://localhost:8080/",
          "height": 34
        }
      },
      "source": [
        "out1 = net1(images)\n",
        "out1.shape # ((wo = wi - f + 2P)/s) + 1 ; padding(1,1 ) ==> 32 x32 stride(2,2) ==> 16 x 16 "
      ],
      "execution_count": 65,
      "outputs": [
        {
          "output_type": "execute_result",
          "data": {
            "text/plain": [
              "torch.Size([4, 16, 16, 16])"
            ]
          },
          "metadata": {
            "tags": []
          },
          "execution_count": 65
        }
      ]
    },
    {
      "cell_type": "code",
      "metadata": {
        "colab_type": "code",
        "outputId": "62f67a22-d482-4fa3-d1d7-d7530e710f64",
        "id": "aark-YhmIvyX",
        "colab": {
          "base_uri": "https://localhost:8080/",
          "height": 67
        }
      },
      "source": [
        "find_parameters(net1.parameters())# output channels = 16, channel depth = 3 , filter size = 3 x 3  + bias for each kernel => total bias weight = 16"
      ],
      "execution_count": 75,
      "outputs": [
        {
          "output_type": "stream",
          "text": [
            "torch.Size([16, 3, 3, 3])\n",
            "torch.Size([16])\n",
            "Total Parameters =  448\n"
          ],
          "name": "stdout"
        }
      ]
    },
    {
      "cell_type": "code",
      "metadata": {
        "colab_type": "code",
        "outputId": "9e0bb847-b613-45a1-ab6d-4dd66b232dd1",
        "id": "AuA6d2VlI5Fn",
        "colab": {
          "base_uri": "https://localhost:8080/",
          "height": 34
        }
      },
      "source": [
        "out11 = out[0, 0, :, :].detach().numpy() # 0th batch 0th channel all 30 x 30\n",
        "print(out11.shape)"
      ],
      "execution_count": 67,
      "outputs": [
        {
          "output_type": "stream",
          "text": [
            "(30, 30)\n"
          ],
          "name": "stdout"
        }
      ]
    },
    {
      "cell_type": "code",
      "metadata": {
        "colab_type": "code",
        "outputId": "620ecf5d-c65e-4509-a98a-9322b4fdc73a",
        "id": "YlwrQIoRJBVu",
        "colab": {
          "base_uri": "https://localhost:8080/",
          "height": 105
        }
      },
      "source": [
        "plt.figure(figsize = (1,1))\n",
        "plt.imshow(out1[0, 0, :, :].detach().numpy())\n",
        "plt.show()"
      ],
      "execution_count": 68,
      "outputs": [
        {
          "output_type": "display_data",
          "data": {
            "image/png": "[encoded data removed]",
            "text/plain": [
              "<Figure size 72x72 with 1 Axes>"
            ]
          },
          "metadata": {
            "tags": []
          }
        }
      ]
    },
    {
      "cell_type": "markdown",
      "metadata": {
        "id": "Y6nSsRqRQ3sJ",
        "colab_type": "text"
      },
      "source": [
        "## Deep Convolutional Network"
      ]
    },
    {
      "cell_type": "code",
      "metadata": {
        "id": "YtwIDsUUjH9h",
        "colab_type": "code",
        "colab": {}
      },
      "source": [
        "class FirstCNN_v2(nn.Module):\n",
        "    def __init__(self): \n",
        "        super(FirstCNN_v2, self).__init__()\n",
        "        self.model = nn.Sequential(\n",
        "            nn.Conv2d(3, 8, 3),   # (N, 3, 32, 32) -> (N, 8, 30, 30) ; N is batch size here\n",
        "            nn.Conv2d(8, 16, 3)   # (N, 8, 30, 30) -> (N, 16, 28, 28)\n",
        "        )\n",
        "        \n",
        "    def forward(self, x):\n",
        "        x = self.model(x)\n",
        "        return x"
      ],
      "execution_count": 0,
      "outputs": []
    },
    {
      "cell_type": "code",
      "metadata": {
        "id": "1TlJtTMoliU3",
        "colab_type": "code",
        "outputId": "bceb3233-6404-455e-9cd8-4247f9229291",
        "colab": {
          "base_uri": "https://localhost:8080/",
          "height": 34
        }
      },
      "source": [
        "net = FirstCNN_v2()\n",
        "out = net(images)\n",
        "out.shape"
      ],
      "execution_count": 70,
      "outputs": [
        {
          "output_type": "execute_result",
          "data": {
            "text/plain": [
              "torch.Size([4, 16, 28, 28])"
            ]
          },
          "metadata": {
            "tags": []
          },
          "execution_count": 70
        }
      ]
    },
    {
      "cell_type": "code",
      "metadata": {
        "id": "1d3il8fFZxzV",
        "colab_type": "code",
        "colab": {
          "base_uri": "https://localhost:8080/",
          "height": 101
        },
        "outputId": "76929c48-fd1e-46e2-acbc-9c9649616d6c"
      },
      "source": [
        "find_parameters(net.parameters())"
      ],
      "execution_count": 76,
      "outputs": [
        {
          "output_type": "stream",
          "text": [
            "torch.Size([8, 3, 3, 3])\n",
            "torch.Size([8])\n",
            "torch.Size([16, 8, 3, 3])\n",
            "torch.Size([16])\n",
            "Total Parameters =  1392\n"
          ],
          "name": "stdout"
        }
      ]
    },
    {
      "cell_type": "code",
      "metadata": {
        "id": "jpPuOr1TlilH",
        "colab_type": "code",
        "outputId": "baba70e0-8546-4072-a08e-4fa42db5ce51",
        "colab": {
          "base_uri": "https://localhost:8080/",
          "height": 122
        }
      },
      "source": [
        "plt.figure(figsize = (1,1))\n",
        "plt.imshow(out[0, 0, :, :].detach().numpy())"
      ],
      "execution_count": 71,
      "outputs": [
        {
          "output_type": "execute_result",
          "data": {
            "text/plain": [
              "<matplotlib.image.AxesImage at 0x7f5128485748>"
            ]
          },
          "metadata": {
            "tags": []
          },
          "execution_count": 71
        },
        {
          "output_type": "display_data",
          "data": {
            "image/png": "[encoded data removed]",
            "text/plain": [
              "<Figure size 72x72 with 1 Axes>"
            ]
          },
          "metadata": {
            "tags": []
          }
        }
      ]
    },
    {
      "cell_type": "code",
      "metadata": {
        "id": "5GnYimnTmFyi",
        "colab_type": "code",
        "colab": {}
      },
      "source": [
        "class FirstCNN_v3(nn.Module):\n",
        "    def __init__(self): \n",
        "        super(FirstCNN_v3, self).__init__()\n",
        "        self.model = nn.Sequential(\n",
        "            nn.Conv2d(3, 6, 5),          # (N, 3, 32, 32) -> (N, 6, 28, 28)\n",
        "            nn.AvgPool2d(2, stride=2),   # (N, 6, 28, 28) -> (N, 6, 14, 14)\n",
        "            nn.Conv2d(6, 16, 5),         # (N, 6, 14, 14) -> (N, 16, 10, 10)\n",
        "            nn.AvgPool2d(2, stride=2)    # (N, 16, 10, 10) -> (N, 16, 5, 5)\n",
        "        )\n",
        "        \n",
        "    def forward(self, x):\n",
        "        x = self.model(x)\n",
        "        return x"
      ],
      "execution_count": 0,
      "outputs": []
    },
    {
      "cell_type": "code",
      "metadata": {
        "id": "ldq1anrdmwox",
        "colab_type": "code",
        "outputId": "756c8a98-e360-42de-9a35-38eaf918807b",
        "colab": {
          "base_uri": "https://localhost:8080/",
          "height": 34
        }
      },
      "source": [
        "net = FirstCNN_v3()\n",
        "out = net(images)\n",
        "out.shape"
      ],
      "execution_count": 0,
      "outputs": [
        {
          "output_type": "execute_result",
          "data": {
            "text/plain": [
              "torch.Size([4, 16, 5, 5])"
            ]
          },
          "metadata": {
            "tags": []
          },
          "execution_count": 156
        }
      ]
    },
    {
      "cell_type": "code",
      "metadata": {
        "id": "tOnUd7TyVunB",
        "colab_type": "code",
        "outputId": "41c83abb-4336-45d0-fb37-c174f10ade0e",
        "colab": {
          "base_uri": "https://localhost:8080/",
          "height": 122
        }
      },
      "source": [
        "plt.figure(figsize = (1,1))\n",
        "plt.imshow(out[0, 0, :, :].detach().numpy())"
      ],
      "execution_count": 0,
      "outputs": [
        {
          "output_type": "execute_result",
          "data": {
            "text/plain": [
              "<matplotlib.image.AxesImage at 0x7f681ddc9198>"
            ]
          },
          "metadata": {
            "tags": []
          },
          "execution_count": 193
        },
        {
          "output_type": "display_data",
          "data": {
            "image/png": "[encoded data removed]",
            "text/plain": [
              "<Figure size 72x72 with 1 Axes>"
            ]
          },
          "metadata": {
            "tags": []
          }
        }
      ]
    },
    {
      "cell_type": "markdown",
      "metadata": {
        "id": "vymNQCrDQ7dM",
        "colab_type": "text"
      },
      "source": [
        "## LeNet"
      ]
    },
    {
      "cell_type": "code",
      "metadata": {
        "colab_type": "code",
        "id": "4nWTLqBuNWOS",
        "colab": {}
      },
      "source": [
        "class LeNet(nn.Module):\n",
        "    def __init__(self): \n",
        "        super(LeNet, self).__init__()\n",
        "        self.cnn_model = nn.Sequential(\n",
        "            nn.Conv2d(3, 6, 5),         # (N, 3, 32, 32) -> (N,  6, 28, 28)\n",
        "            nn.Tanh(),\n",
        "            nn.AvgPool2d(2, stride=2),  # (N, 6, 28, 28) -> (N,  6, 14, 14)\n",
        "            nn.Conv2d(6, 16, 5),        # (N, 6, 14, 14) -> (N, 16, 10, 10)  \n",
        "            nn.Tanh(),\n",
        "            nn.AvgPool2d(2, stride=2)   # (N,16, 10, 10) -> (N, 16, 5, 5)\n",
        "        )\n",
        "        self.fc_model = nn.Sequential(\n",
        "            nn.Linear(400,120),         # (N, 400) -> (N, 120)\n",
        "            nn.Tanh(),\n",
        "            nn.Linear(120,84),          # (N, 120) -> (N, 84)\n",
        "            nn.Tanh(),\n",
        "            nn.Linear(84,10)            # (N, 84)  -> (N, 10)\n",
        "        )\n",
        "        \n",
        "    def forward(self, x):\n",
        "        print(x.shape)\n",
        "        x = self.cnn_model(x)\n",
        "        print(x.shape)\n",
        "        x = x.view(x.size(0), -1) # flattening of vector\n",
        "        print(x.shape)\n",
        "        x = self.fc_model(x)\n",
        "        print(x.shape)\n",
        "        return x"
      ],
      "execution_count": 0,
      "outputs": []
    },
    {
      "cell_type": "code",
      "metadata": {
        "id": "hruUII0sRIO4",
        "colab_type": "code",
        "outputId": "3a6bc70b-017b-4d2b-d92e-cedd6072325e",
        "colab": {
          "base_uri": "https://localhost:8080/",
          "height": 84
        }
      },
      "source": [
        "net = LeNet()\n",
        "out = net(images)"
      ],
      "execution_count": 83,
      "outputs": [
        {
          "output_type": "stream",
          "text": [
            "torch.Size([4, 3, 32, 32])\n",
            "torch.Size([4, 16, 5, 5])\n",
            "torch.Size([4, 400])\n",
            "torch.Size([4, 10])\n"
          ],
          "name": "stdout"
        }
      ]
    },
    {
      "cell_type": "code",
      "metadata": {
        "id": "hX5ZSzy5b-n3",
        "colab_type": "code",
        "colab": {
          "base_uri": "https://localhost:8080/",
          "height": 202
        },
        "outputId": "10d5587c-7acd-4b57-a792-08158ac0a3f2"
      },
      "source": [
        "find_parameters(net.parameters())"
      ],
      "execution_count": 85,
      "outputs": [
        {
          "output_type": "stream",
          "text": [
            "torch.Size([6, 3, 5, 5])\n",
            "torch.Size([6])\n",
            "torch.Size([16, 6, 5, 5])\n",
            "torch.Size([16])\n",
            "torch.Size([120, 400])\n",
            "torch.Size([120])\n",
            "torch.Size([84, 120])\n",
            "torch.Size([84])\n",
            "torch.Size([10, 84])\n",
            "torch.Size([10])\n",
            "Total Parameters =  62006\n"
          ],
          "name": "stdout"
        }
      ]
    },
    {
      "cell_type": "code",
      "metadata": {
        "id": "2E66qlEzRapT",
        "colab_type": "code",
        "outputId": "3a84d1dc-0fc0-4f10-82c7-ac91c8ca5ff4",
        "colab": {
          "base_uri": "https://localhost:8080/",
          "height": 151
        }
      },
      "source": [
        "print(out)"
      ],
      "execution_count": 84,
      "outputs": [
        {
          "output_type": "stream",
          "text": [
            "tensor([[-0.0555, -0.1429, -0.0155,  0.0502, -0.0424, -0.0994, -0.0954, -0.0266,\n",
            "         -0.0817,  0.0711],\n",
            "        [-0.0364, -0.1434, -0.0199,  0.0550, -0.0463, -0.1098, -0.0992, -0.0230,\n",
            "         -0.0876,  0.0777],\n",
            "        [-0.0678, -0.1411, -0.0040,  0.0668, -0.0398, -0.0883, -0.0880, -0.0105,\n",
            "         -0.0806,  0.0645],\n",
            "        [-0.0358, -0.1521, -0.0272,  0.0507, -0.0454, -0.1186, -0.1018, -0.0414,\n",
            "         -0.1013,  0.0491]], grad_fn=<AddmmBackward>)\n"
          ],
          "name": "stdout"
        }
      ]
    },
    {
      "cell_type": "code",
      "metadata": {
        "id": "ZiYvD0l7Rhma",
        "colab_type": "code",
        "outputId": "055e5546-ceb1-4dfa-9359-1f07aa8b670b",
        "colab": {
          "base_uri": "https://localhost:8080/",
          "height": 34
        }
      },
      "source": [
        "max_values, pred_class = torch.max(out.data, 1)\n",
        "print(pred_class)"
      ],
      "execution_count": 0,
      "outputs": [
        {
          "output_type": "stream",
          "text": [
            "tensor([0, 5, 5, 5])\n"
          ],
          "name": "stdout"
        }
      ]
    },
    {
      "cell_type": "markdown",
      "metadata": {
        "id": "lOQGdybZRQqk",
        "colab_type": "text"
      },
      "source": [
        "## Training LeNet"
      ]
    },
    {
      "cell_type": "code",
      "metadata": {
        "id": "ylTZodUuV1eb",
        "colab_type": "code",
        "colab": {}
      },
      "source": [
        "class LeNet(nn.Module):\n",
        "    def __init__(self): \n",
        "        super(LeNet, self).__init__()\n",
        "        self.cnn_model = nn.Sequential(\n",
        "            nn.Conv2d(3, 6, 5),         # (N, 3, 32, 32) -> (N,  6, 28, 28)\n",
        "            nn.Tanh(),\n",
        "            nn.AvgPool2d(2, stride=2),  # (N, 6, 28, 28) -> (N,  6, 14, 14)\n",
        "            nn.Conv2d(6, 16, 5),        # (N, 6, 14, 14) -> (N, 16, 10, 10)  \n",
        "            nn.Tanh(),\n",
        "            nn.AvgPool2d(2, stride=2)   # (N,16, 10, 10) -> (N, 16, 5, 5)\n",
        "        )\n",
        "        self.fc_model = nn.Sequential(\n",
        "            nn.Linear(400,120),         # (N, 400) -> (N, 120)\n",
        "            nn.Tanh(),\n",
        "            nn.Linear(120,84),          # (N, 120) -> (N, 84)\n",
        "            nn.Tanh(),\n",
        "            nn.Linear(84,10)            # (N, 84)  -> (N, 10)\n",
        "        )\n",
        "        \n",
        "    def forward(self, x):\n",
        "        x = self.cnn_model(x)\n",
        "        x = x.view(x.size(0), -1)\n",
        "        x = self.fc_model(x)\n",
        "        return x"
      ],
      "execution_count": 0,
      "outputs": []
    },
    {
      "cell_type": "code",
      "metadata": {
        "id": "GOWc4kya8UDC",
        "colab_type": "code",
        "outputId": "6cc54939-f715-4e21-80ba-fee5373a7f1b",
        "colab": {
          "base_uri": "https://localhost:8080/",
          "height": 50
        }
      },
      "source": [
        "batch_size = 128\n",
        "trainset = torchvision.datasets.CIFAR10(root='./data', train=True, download=True, transform=transforms.ToTensor())\n",
        "trainloader = torch.utils.data.DataLoader(trainset, batch_size=batch_size, shuffle=True)\n",
        "testset = torchvision.datasets.CIFAR10(root='./data', train=False, download=True, transform=transforms.ToTensor())\n",
        "testloader = torch.utils.data.DataLoader(testset, batch_size=batch_size, shuffle=False)"
      ],
      "execution_count": 87,
      "outputs": [
        {
          "output_type": "stream",
          "text": [
            "Files already downloaded and verified\n",
            "Files already downloaded and verified\n"
          ],
          "name": "stdout"
        }
      ]
    },
    {
      "cell_type": "code",
      "metadata": {
        "id": "x9ehrnaHHZoj",
        "colab_type": "code",
        "colab": {}
      },
      "source": [
        "def evaluation(dataloader):\n",
        "    total, correct = 0, 0\n",
        "    for data in dataloader:\n",
        "        inputs, labels = data\n",
        "        outputs = net(inputs)\n",
        "        _, pred = torch.max(outputs.data, 1)\n",
        "        total += labels.size(0)\n",
        "        correct += (pred == labels).sum().item()\n",
        "    return 100 * correct / total"
      ],
      "execution_count": 0,
      "outputs": []
    },
    {
      "cell_type": "code",
      "metadata": {
        "id": "3pYTvSvD2TwM",
        "colab_type": "code",
        "colab": {}
      },
      "source": [
        "net = LeNet()"
      ],
      "execution_count": 0,
      "outputs": []
    },
    {
      "cell_type": "code",
      "metadata": {
        "id": "ELjECHcPcP08",
        "colab_type": "code",
        "colab": {
          "base_uri": "https://localhost:8080/",
          "height": 202
        },
        "outputId": "837e93a4-2cd0-4c11-9515-e0716aba9faf"
      },
      "source": [
        "find_parameters(net.parameters())"
      ],
      "execution_count": 90,
      "outputs": [
        {
          "output_type": "stream",
          "text": [
            "torch.Size([6, 3, 5, 5])\n",
            "torch.Size([6])\n",
            "torch.Size([16, 6, 5, 5])\n",
            "torch.Size([16])\n",
            "torch.Size([120, 400])\n",
            "torch.Size([120])\n",
            "torch.Size([84, 120])\n",
            "torch.Size([84])\n",
            "torch.Size([10, 84])\n",
            "torch.Size([10])\n",
            "Total Parameters =  62006\n"
          ],
          "name": "stdout"
        }
      ]
    },
    {
      "cell_type": "code",
      "metadata": {
        "id": "2T6Wzz7J2xq3",
        "colab_type": "code",
        "colab": {}
      },
      "source": [
        "import torch.optim as optim\n",
        "\n",
        "loss_fn = nn.CrossEntropyLoss()\n",
        "opt = optim.Adam(net.parameters())# here we have not defined any hyperparameters like learning rate so it will work on default values"
      ],
      "execution_count": 0,
      "outputs": []
    },
    {
      "cell_type": "code",
      "metadata": {
        "id": "a0LnxsXi6Cgt",
        "colab_type": "code",
        "outputId": "1aa607a9-84a9-4557-fb88-34e229f8d45a",
        "colab": {
          "base_uri": "https://localhost:8080/",
          "height": 567
        }
      },
      "source": [
        "%%time\n",
        "loss_arr = []\n",
        "loss_epoch_arr = []\n",
        "max_epochs = 16\n",
        "\n",
        "for epoch in range(max_epochs):\n",
        "\n",
        "    for i, data in enumerate(trainloader, 0):\n",
        "\n",
        "        inputs, labels = data\n",
        "\n",
        "        opt.zero_grad()\n",
        "\n",
        "        outputs = net(inputs)\n",
        "        loss = loss_fn(outputs, labels)\n",
        "        loss.backward()\n",
        "        opt.step() # updation of parameters\n",
        "        \n",
        "        loss_arr.append(loss.item())\n",
        "        \n",
        "    loss_epoch_arr.append(loss.item())\n",
        "        \n",
        "    print('Epoch: %d/%d, Test acc: %0.2f, Train acc: %0.2f' % (epoch, max_epochs, evaluation(testloader), evaluation(trainloader)))\n",
        "    \n",
        "    \n",
        "plt.plot(loss_epoch_arr)\n",
        "plt.show()"
      ],
      "execution_count": 92,
      "outputs": [
        {
          "output_type": "stream",
          "text": [
            "Epoch: 0/16, Test acc: 36.88, Train acc: 36.94\n",
            "Epoch: 1/16, Test acc: 42.94, Train acc: 42.91\n",
            "Epoch: 2/16, Test acc: 46.26, Train acc: 46.85\n",
            "Epoch: 3/16, Test acc: 49.40, Train acc: 50.40\n",
            "Epoch: 4/16, Test acc: 50.67, Train acc: 51.80\n",
            "Epoch: 5/16, Test acc: 52.34, Train acc: 54.77\n",
            "Epoch: 6/16, Test acc: 53.28, Train acc: 55.89\n",
            "Epoch: 7/16, Test acc: 52.88, Train acc: 57.33\n",
            "Epoch: 8/16, Test acc: 54.50, Train acc: 59.27\n",
            "Epoch: 9/16, Test acc: 54.66, Train acc: 59.99\n",
            "Epoch: 10/16, Test acc: 54.30, Train acc: 60.80\n",
            "Epoch: 11/16, Test acc: 54.66, Train acc: 62.03\n",
            "Epoch: 12/16, Test acc: 55.65, Train acc: 63.01\n",
            "Epoch: 13/16, Test acc: 55.13, Train acc: 62.84\n",
            "Epoch: 14/16, Test acc: 55.32, Train acc: 64.34\n",
            "Epoch: 15/16, Test acc: 55.41, Train acc: 64.83\n"
          ],
          "name": "stdout"
        },
        {
          "output_type": "display_data",
          "data": {
            "image/png": "[encoded data removed]",
            "text/plain": [
              "<Figure size 432x288 with 1 Axes>"
            ]
          },
          "metadata": {
            "tags": []
          }
        },
        {
          "output_type": "stream",
          "text": [
            "CPU times: user 8min 21s, sys: 5.72 s, total: 8min 27s\n",
            "Wall time: 8min 28s\n"
          ],
          "name": "stdout"
        }
      ]
    },
    {
      "cell_type": "markdown",
      "metadata": {
        "id": "ECHeB_BUTHl5",
        "colab_type": "text"
      },
      "source": [
        "## Move to GPU"
      ]
    },
    {
      "cell_type": "code",
      "metadata": {
        "id": "Mj0-Y6zJTJ5z",
        "colab_type": "code",
        "outputId": "e917c624-bfe3-4f61-f6ac-28b25ea532b4",
        "colab": {
          "base_uri": "https://localhost:8080/",
          "height": 34
        }
      },
      "source": [
        "device = torch.device(\"cuda:0\" if torch.cuda.is_available() else \"cpu\")\n",
        "print(device)"
      ],
      "execution_count": 0,
      "outputs": [
        {
          "output_type": "stream",
          "text": [
            "cpu\n"
          ],
          "name": "stdout"
        }
      ]
    },
    {
      "cell_type": "code",
      "metadata": {
        "id": "n4fHbz2fTNpR",
        "colab_type": "code",
        "colab": {}
      },
      "source": [
        "def evaluation(dataloader):\n",
        "    total, correct = 0, 0\n",
        "    for data in dataloader:\n",
        "        inputs, labels = data\n",
        "        inputs, labels = inputs.to(device), labels.to(device)\n",
        "        outputs = net(inputs)\n",
        "        _, pred = torch.max(outputs.data, 1)\n",
        "        total += labels.size(0)\n",
        "        correct += (pred == labels).sum().item()\n",
        "    return 100 * correct / total"
      ],
      "execution_count": 0,
      "outputs": []
    },
    {
      "cell_type": "code",
      "metadata": {
        "id": "mnxecsfVTQH-",
        "colab_type": "code",
        "colab": {}
      },
      "source": [
        "net = LeNet().to(device)\n",
        "loss_fn = nn.CrossEntropyLoss()\n",
        "opt = optim.Adam(net.parameters())"
      ],
      "execution_count": 0,
      "outputs": []
    },
    {
      "cell_type": "code",
      "metadata": {
        "id": "i9t3Js-XTWkf",
        "colab_type": "code",
        "outputId": "454e9f20-6eef-4518-c559-0d3592aa76cd",
        "colab": {
          "base_uri": "https://localhost:8080/",
          "height": 319
        }
      },
      "source": [
        "%%time\n",
        "max_epochs = 16\n",
        "\n",
        "for epoch in range(max_epochs):\n",
        "\n",
        "    for i, data in enumerate(trainloader, 0):\n",
        "\n",
        "        inputs, labels = data\n",
        "        inputs, labels = inputs.to(device), labels.to(device)\n",
        "\n",
        "        opt.zero_grad()\n",
        "\n",
        "        outputs = net(inputs)\n",
        "        loss = loss_fn(outputs, labels)\n",
        "        loss.backward()\n",
        "        opt.step()\n",
        "        \n",
        "    print('Epoch: %d/%d' % (epoch, max_epochs))"
      ],
      "execution_count": 0,
      "outputs": [
        {
          "output_type": "stream",
          "text": [
            "Epoch: 0/16\n",
            "Epoch: 1/16\n",
            "Epoch: 2/16\n",
            "Epoch: 3/16\n",
            "Epoch: 4/16\n",
            "Epoch: 5/16\n",
            "Epoch: 6/16\n",
            "Epoch: 7/16\n",
            "Epoch: 8/16\n",
            "Epoch: 9/16\n",
            "Epoch: 10/16\n",
            "Epoch: 11/16\n",
            "Epoch: 12/16\n",
            "Epoch: 13/16\n",
            "Epoch: 14/16\n",
            "Epoch: 15/16\n",
            "CPU times: user 5min 34s, sys: 5.09 s, total: 5min 39s\n",
            "Wall time: 5min 40s\n"
          ],
          "name": "stdout"
        }
      ]
    },
    {
      "cell_type": "code",
      "metadata": {
        "id": "1mao_iiQZVlE",
        "colab_type": "code",
        "outputId": "7b4542a3-5131-4bff-af38-a75871240b88",
        "colab": {
          "base_uri": "https://localhost:8080/",
          "height": 34
        }
      },
      "source": [
        "print('Test acc: %0.2f, Train acc: %0.2f' % (evaluation(testloader), evaluation(trainloader)))"
      ],
      "execution_count": 0,
      "outputs": [
        {
          "output_type": "stream",
          "text": [
            "Test acc: 56.55, Train acc: 66.25\n"
          ],
          "name": "stdout"
        }
      ]
    },
    {
      "cell_type": "markdown",
      "metadata": {
        "id": "Fq5T-KsjTEUQ",
        "colab_type": "text"
      },
      "source": [
        "## Basic Visualisation"
      ]
    },
    {
      "cell_type": "code",
      "metadata": {
        "id": "LWfeXhrzSFSc",
        "colab_type": "code",
        "outputId": "cb5d7de6-0772-4576-dc8a-3bbf2478921d",
        "colab": {
          "base_uri": "https://localhost:8080/",
          "height": 109
        }
      },
      "source": [
        "imshow(torchvision.utils.make_grid(images))"
      ],
      "execution_count": 0,
      "outputs": [
        {
          "output_type": "display_data",
          "data": {
            "image/png": "[encoded data removed]",
            "text/plain": [
              "<Figure size 288x288 with 1 Axes>"
            ]
          },
          "metadata": {
            "tags": []
          }
        }
      ]
    },
    {
      "cell_type": "code",
      "metadata": {
        "id": "DiorUKc-LnWx",
        "colab_type": "code",
        "colab": {}
      },
      "source": [
        "net = net.to('cpu')"
      ],
      "execution_count": 0,
      "outputs": []
    },
    {
      "cell_type": "code",
      "metadata": {
        "id": "luNsBRCAKQC_",
        "colab_type": "code",
        "outputId": "de982886-4578-4e70-ff36-5064520516ba",
        "colab": {
          "base_uri": "https://localhost:8080/",
          "height": 34
        }
      },
      "source": [
        "out = net(images)\n",
        "print(out.shape)"
      ],
      "execution_count": 0,
      "outputs": [
        {
          "output_type": "stream",
          "text": [
            "torch.Size([4, 10])\n"
          ],
          "name": "stdout"
        }
      ]
    },
    {
      "cell_type": "code",
      "metadata": {
        "id": "-38nfaIUKSeF",
        "colab_type": "code",
        "outputId": "df3420f4-dd78-4c72-db80-7edc65971461",
        "colab": {
          "base_uri": "https://localhost:8080/",
          "height": 34
        }
      },
      "source": [
        "out = net.cnn_model[0](images) # first layer\n",
        "out.shape"
      ],
      "execution_count": 0,
      "outputs": [
        {
          "output_type": "execute_result",
          "data": {
            "text/plain": [
              "torch.Size([4, 6, 28, 28])"
            ]
          },
          "metadata": {
            "tags": []
          },
          "execution_count": 176
        }
      ]
    },
    {
      "cell_type": "code",
      "metadata": {
        "id": "Gqj4_qG1KYcO",
        "colab_type": "code",
        "outputId": "d9a7bc30-9096-487e-8cd9-d4c5957c51a4",
        "colab": {
          "base_uri": "https://localhost:8080/",
          "height": 283
        }
      },
      "source": [
        "image_id = 3\n",
        "plt.figure(figsize = (1,1))\n",
        "imshow(images[image_id,])"
      ],
      "execution_count": 0,
      "outputs": [
        {
          "output_type": "display_data",
          "data": {
            "text/plain": [
              "<Figure size 72x72 with 0 Axes>"
            ]
          },
          "metadata": {
            "tags": []
          }
        },
        {
          "output_type": "display_data",
          "data": {
            "image/png": "[encoded data removed]",
            "text/plain": [
              "<Figure size 288x288 with 1 Axes>"
            ]
          },
          "metadata": {
            "tags": []
          }
        }
      ]
    },
    {
      "cell_type": "code",
      "metadata": {
        "id": "19iXHHLitP2D",
        "colab_type": "code",
        "outputId": "b75c462d-376b-40ab-f574-88f8fb61ec64",
        "colab": {
          "base_uri": "https://localhost:8080/",
          "height": 430
        }
      },
      "source": [
        "plt.figure(figsize = (6,6))\n",
        "plt.subplot(321) # 3 rows and 2 coulumns\n",
        "for i in range(6):\n",
        "    ax1 = plt.subplot(3, 2, i+1)\n",
        "    plt.imshow(out[image_id, i, :, :].detach().numpy(), cmap=\"binary\")\n",
        "plt.show()"
      ],
      "execution_count": 0,
      "outputs": [
        {
          "output_type": "stream",
          "text": [
            "/usr/local/lib/python3.6/dist-packages/ipykernel_launcher.py:4: MatplotlibDeprecationWarning: Adding an axes using the same arguments as a previous axes currently reuses the earlier instance.  In a future version, a new instance will always be created and returned.  Meanwhile, this warning can be suppressed, and the future behavior ensured, by passing a unique label to each axes instance.\n",
            "  after removing the cwd from sys.path.\n"
          ],
          "name": "stderr"
        },
        {
          "output_type": "display_data",
          "data": {
            "image/png": "[encoded data removed]",
            "text/plain": [
              "<Figure size 432x432 with 6 Axes>"
            ]
          },
          "metadata": {
            "tags": []
          }
        }
      ]
    }
  ]
}