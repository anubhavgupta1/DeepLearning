{
  "nbformat": 4,
  "nbformat_minor": 0,
  "metadata": {
    "colab": {
      "name": "16_Hyper_Parameter_Tuning_ml_flow.ipynb",
      "provenance": [],
      "authorship_tag": "ABX9TyNP5q9Kyl4SPCVYGIRiT8+r",
      "include_colab_link": true
    },
    "kernelspec": {
      "name": "python3",
      "display_name": "Python 3"
    },
    "accelerator": "GPU"
  },
  "cells": [
    {
      "cell_type": "markdown",
      "metadata": {
        "id": "view-in-github",
        "colab_type": "text"
      },
      "source": [
        "<a href=\"https://colab.research.google.com/github/anubhavgupta1/DeepLearning/blob/master/16_Hyper_Parameter_Tuning_ml_flow.ipynb\" target=\"_parent\"><img src=\"https://colab.research.google.com/assets/colab-badge.svg\" alt=\"Open In Colab\"/></a>"
      ]
    },
    {
      "cell_type": "markdown",
      "metadata": {
        "id": "hZDrR6KMyWtv",
        "colab_type": "text"
      },
      "source": [
        "# Outline\n",
        "\n",
        "1.   Basic motivation of hyperparameter tuning\n",
        "2.   Integrating Google colab with a local runtime (config in Google colab, Browser, Jupyter notebook)\n",
        "3.   Installing MLFlow and basic use case\n",
        "4.   Logging parameters, metrics with MLFlow\n",
        "5.   Logging image artifacts with MLFlow\n",
        "6.   Logging PyTorch models with MLFlow and loading them\n",
        "\n"
      ]
    },
    {
      "cell_type": "markdown",
      "metadata": {
        "id": "G-JQ9epHSc8v",
        "colab_type": "text"
      },
      "source": [
        "![alt text](https://i.stack.imgur.com/N4d6d.png)"
      ]
    },
    {
      "cell_type": "code",
      "metadata": {
        "id": "it17VkYNgwuK",
        "colab_type": "code",
        "colab": {}
      },
      "source": [
        "import torch\n",
        "import matplotlib.pyplot as plt\n",
        "import numpy as np\n",
        "\n",
        "import torchvision\n",
        "from torchvision import datasets, transforms\n",
        "\n",
        "import torch.nn as nn\n",
        "import torch.optim as optim\n",
        "import seaborn as sns"
      ],
      "execution_count": 0,
      "outputs": []
    },
    {
      "cell_type": "code",
      "metadata": {
        "id": "v24S8VRLmC1Z",
        "colab_type": "code",
        "colab": {
          "base_uri": "https://localhost:8080/",
          "height": 353
        },
        "outputId": "55edb447-0030-44fe-cf73-b054bef2eb46"
      },
      "source": [
        "!jupyter serverextension enable --py jupyter_http_over_ws\n"
      ],
      "execution_count": 7,
      "outputs": [
        {
          "output_type": "stream",
          "text": [
            "Traceback (most recent call last):\n",
            "  File \"/usr/local/bin/jupyter-serverextension\", line 8, in <module>\n",
            "    sys.exit(main())\n",
            "  File \"/usr/local/lib/python2.7/dist-packages/jupyter_core/application.py\", line 267, in launch_instance\n",
            "    return super(JupyterApp, cls).launch_instance(argv=argv, **kwargs)\n",
            "  File \"/usr/local/lib/python2.7/dist-packages/traitlets/config/application.py\", line 658, in launch_instance\n",
            "    app.start()\n",
            "  File \"/usr/local/lib/python2.7/dist-packages/notebook/serverextensions.py\", line 293, in start\n",
            "    super(ServerExtensionApp, self).start()\n",
            "  File \"/usr/local/lib/python2.7/dist-packages/jupyter_core/application.py\", line 256, in start\n",
            "    self.subapp.start()\n",
            "  File \"/usr/local/lib/python2.7/dist-packages/notebook/serverextensions.py\", line 210, in start\n",
            "    self.toggle_server_extension_python(arg)\n",
            "  File \"/usr/local/lib/python2.7/dist-packages/notebook/serverextensions.py\", line 199, in toggle_server_extension_python\n",
            "    m, server_exts = _get_server_extension_metadata(package)\n",
            "  File \"/usr/local/lib/python2.7/dist-packages/notebook/serverextensions.py\", line 327, in _get_server_extension_metadata\n",
            "    m = import_item(module)\n",
            "  File \"/usr/local/lib/python2.7/dist-packages/traitlets/utils/importstring.py\", line 42, in import_item\n",
            "    return __import__(parts[0])\n",
            "ImportError: No module named jupyter_http_over_ws\n"
          ],
          "name": "stdout"
        }
      ]
    },
    {
      "cell_type": "code",
      "metadata": {
        "id": "WjsXu6Jognb2",
        "colab_type": "code",
        "colab": {
          "base_uri": "https://localhost:8080/",
          "height": 313
        },
        "outputId": "9190e7fe-4c3f-43e0-ea5b-9a3cf11f43e5"
      },
      "source": [
        "import mlflow\n",
        "import mlflow.pytorch"
      ],
      "execution_count": 2,
      "outputs": [
        {
          "output_type": "error",
          "ename": "ModuleNotFoundError",
          "evalue": "ignored",
          "traceback": [
            "\u001b[0;31m---------------------------------------------------------------------------\u001b[0m",
            "\u001b[0;31mModuleNotFoundError\u001b[0m                       Traceback (most recent call last)",
            "\u001b[0;32m<ipython-input-2-5f10cc4c82d9>\u001b[0m in \u001b[0;36m<module>\u001b[0;34m()\u001b[0m\n\u001b[0;32m----> 1\u001b[0;31m \u001b[0;32mimport\u001b[0m \u001b[0mmlflow\u001b[0m\u001b[0;34m\u001b[0m\u001b[0;34m\u001b[0m\u001b[0m\n\u001b[0m\u001b[1;32m      2\u001b[0m \u001b[0;32mimport\u001b[0m \u001b[0mmlflow\u001b[0m\u001b[0;34m.\u001b[0m\u001b[0mpytorch\u001b[0m\u001b[0;34m\u001b[0m\u001b[0;34m\u001b[0m\u001b[0m\n",
            "\u001b[0;31mModuleNotFoundError\u001b[0m: No module named 'mlflow'",
            "",
            "\u001b[0;31m---------------------------------------------------------------------------\u001b[0;32m\nNOTE: If your import is failing due to a missing package, you can\nmanually install dependencies using either !pip or !apt.\n\nTo view examples of installing some common dependencies, click the\n\"Open Examples\" button below.\n\u001b[0;31m---------------------------------------------------------------------------\u001b[0m\n"
          ]
        }
      ]
    },
    {
      "cell_type": "markdown",
      "metadata": {
        "id": "FGH7fglJnTXP",
        "colab_type": "text"
      },
      "source": [
        "# Params"
      ]
    },
    {
      "cell_type": "code",
      "metadata": {
        "id": "R5ThTNYsnUxF",
        "colab_type": "code",
        "colab": {}
      },
      "source": [
        "class Params(object):\n",
        "    def __init__(self, batch_size, epochs, seed, log_interval):\n",
        "        self.batch_size = batch_size\n",
        "        self.epochs = epochs\n",
        "        self.seed = seed\n",
        "        self.log_interval = log_interval\n",
        "\n",
        "args = Params(256, 4, 0, 20)"
      ],
      "execution_count": 0,
      "outputs": []
    },
    {
      "cell_type": "markdown",
      "metadata": {
        "id": "PfDVnJmCipJu",
        "colab_type": "text"
      },
      "source": [
        "# Dataset"
      ]
    },
    {
      "cell_type": "code",
      "metadata": {
        "id": "5GwLA3QDhM1S",
        "colab_type": "code",
        "colab": {}
      },
      "source": [
        "transform = transforms.Compose([\n",
        "    transforms.ToTensor(),\n",
        "    transforms.Normalize((0.1307,), (0.3081,))\n",
        "])\n",
        "\n",
        "train_set = datasets.MNIST('../data', train=True, download=True, \n",
        "                         transform=transform)\n",
        "\n",
        "test_set = datasets.MNIST('../data', train=False, download=True, \n",
        "                         transform=transform)\n",
        "\n",
        "train_loader = torch.utils.data.DataLoader(train_set, batch_size=args.batch_size, shuffle=True)\n",
        "test_loader = torch.utils.data.DataLoader(test_set, batch_size=args.batch_size, shuffle=False)"
      ],
      "execution_count": 0,
      "outputs": []
    },
    {
      "cell_type": "markdown",
      "metadata": {
        "id": "2u13ym2zkBbl",
        "colab_type": "text"
      },
      "source": [
        "# Model"
      ]
    },
    {
      "cell_type": "code",
      "metadata": {
        "id": "CUu8MdCmiuk1",
        "colab_type": "code",
        "colab": {}
      },
      "source": [
        "class Model(nn.Module):\n",
        "    def __init__(self, nH = 32): \n",
        "        super(Model, self).__init__()\n",
        "        self.classifier = nn.Sequential(\n",
        "            nn.Linear(784, nH),  # 28 x 28 = 784\n",
        "            nn.ReLU(),\n",
        "            nn.Linear(nH, 10)\n",
        "        )\n",
        "             \n",
        "    def forward(self, x):\n",
        "        x = x.view(x.size(0), -1)\n",
        "        x = self.classifier(x)\n",
        "        return x"
      ],
      "execution_count": 0,
      "outputs": []
    },
    {
      "cell_type": "code",
      "metadata": {
        "id": "5voY1tdykFZn",
        "colab_type": "code",
        "colab": {}
      },
      "source": [
        "def train(epoch):\n",
        "    \n",
        "    model.train()\n",
        "    \n",
        "    for batch_id, data in enumerate(train_loader):\n",
        "        inputs, labels = data\n",
        "        \n",
        "        opt.zero_grad()\n",
        "        outputs = model(inputs)\n",
        "        loss = loss_fn(outputs, labels)\n",
        "        loss.backward()\n",
        "        opt.step()\n",
        "        \n",
        "        if batch_id % args.log_interval == 0:\n",
        "            pos = epoch * len(train_loader) + batch_id\n",
        "            mlflow.log_metric('train_loss', loss.data.item()/len(inputs)*1000)\n",
        "            \n",
        "            print('Train Epoch: {} [{}/{} ({:.0f}%)]\\tLoss: {:.3f}'.format(\n",
        "                epoch, batch_id * len(inputs), len(train_loader.dataset),\n",
        "                100. * batch_id / len(train_loader), loss.data.item()))"
      ],
      "execution_count": 0,
      "outputs": []
    },
    {
      "cell_type": "code",
      "metadata": {
        "id": "ShQ7ICRQlbA4",
        "colab_type": "code",
        "colab": {}
      },
      "source": [
        "def test(epoch):\n",
        "    \n",
        "    model.eval()\n",
        "    test_loss = 0\n",
        "    correct = 0\n",
        "    confusion_matrix = np.zeros([10, 10])\n",
        "    \n",
        "    with torch.no_grad():\n",
        "        \n",
        "        for inputs, labels in test_loader:\n",
        "            outputs = model(inputs)\n",
        "            test_loss += loss_fn(outputs, labels).data.item()\n",
        "            pred = outputs.data.max(1)[1]\n",
        "            correct += pred.eq(labels.data).sum().item()\n",
        "            \n",
        "            for x, y in zip(pred.numpy(), labels.numpy()):\n",
        "                confusion_matrix[x][y] += 1\n",
        "            \n",
        "        test_loss /= len(test_loader.dataset)\n",
        "        test_accuracy = 100.0 * correct / len(test_loader.dataset)\n",
        "        \n",
        "        pos = (epoch + 1) * len(train_loader)\n",
        "        mlflow.log_metric('test_loss', test_loss*1000)\n",
        "        mlflow.log_metric('test_accuracy', test_accuracy)\n",
        "        \n",
        "        print('\\nTest set: Average loss: {:.4f}, Accuracy: {}/{} ({:.0f}%)\\n'.\n",
        "              format(test_loss, correct, len(test_loader.dataset), test_accuracy))\n",
        "              \n",
        "        if epoch == args.epochs:\n",
        "            classes = np.arange(10)\n",
        "            fig, ax = plt.subplots()\n",
        "            im = ax.imshow(confusion_matrix, interpolation='nearest', cmap=plt.cm.Blues)\n",
        "            ax.figure.colorbar(im, ax=ax)\n",
        "            ax.set(xticks=np.arange(confusion_matrix.shape[1]),\n",
        "                       yticks=np.arange(confusion_matrix.shape[0]),\n",
        "                       xticklabels=classes, yticklabels=classes,\n",
        "                       ylabel='True label',\n",
        "                       xlabel='Predicted label',\n",
        "                       title='Epoch %d' % epoch)\n",
        "            thresh = confusion_matrix.max() / 2.\n",
        "            for i in range(confusion_matrix.shape[0]):\n",
        "                for j in range(confusion_matrix.shape[1]):\n",
        "                    ax.text(j, i, int(confusion_matrix[i, j]),\n",
        "                            ha=\"center\", va=\"center\",\n",
        "                            color=\"white\" if confusion_matrix[i, j] > thresh else \"black\")\n",
        "              \n",
        "            fig.tight_layout()\n",
        "              \n",
        "            image_path = 'images/%s.png' % (expt_id)\n",
        "            plt.savefig(image_path)\n",
        "            mlflow.log_artifact(image_path)\n",
        "            "
      ],
      "execution_count": 0,
      "outputs": []
    },
    {
      "cell_type": "markdown",
      "metadata": {
        "id": "P-ct_608n1Uc",
        "colab_type": "text"
      },
      "source": [
        "# Hyperparameter tuning loop"
      ]
    },
    {
      "cell_type": "code",
      "metadata": {
        "id": "toegseP2n0vt",
        "colab_type": "code",
        "colab": {}
      },
      "source": [
        "# expt_id = mlflow.create_experiment('Fixed nH')\n",
        "\n",
        "mlflow.set_experiment('Fixed nH')\n",
        "\n",
        "for lr in [0.01, 0.02, 0.05, 0.1]:\n",
        "    for momentum in [0.9, 0.95, 0.99]:\n",
        "        for hidden_nodes in [48]:\n",
        "        \n",
        "            expt_id = '%d_%d_%d' % (int(lr*100), int(momentum*100), hidden_nodes)\n",
        "\n",
        "            print('\\nLR = %.2f, Momentum = %.2f, Hidden nodes = %d\\n' % (lr, momentum, hidden_nodes))\n",
        "\n",
        "            model = Model(hidden_nodes)\n",
        "\n",
        "            loss_fn = nn.CrossEntropyLoss()\n",
        "            opt = optim.SGD(model.parameters(), lr=lr, momentum = momentum)\n",
        "\n",
        "            with mlflow.start_run() as run:  \n",
        "                for key, value in vars(args).items():\n",
        "                    mlflow.log_param(key, value)\n",
        "                mlflow.log_param('lr', lr)\n",
        "                mlflow.log_param('momentum', momentum)\n",
        "                mlflow.log_param('hidden_nodes', hidden_nodes)\n",
        "\n",
        "                for epoch in range(1, args.epochs + 1):\n",
        "                    train(epoch)\n",
        "                    test(epoch)\n",
        "\n",
        "                mlflow.pytorch.log_model(model, \"models\")"
      ],
      "execution_count": 0,
      "outputs": []
    },
    {
      "cell_type": "markdown",
      "metadata": {
        "id": "_QZWP804Zk0f",
        "colab_type": "text"
      },
      "source": [
        "# Loading and visualising a model"
      ]
    },
    {
      "cell_type": "code",
      "metadata": {
        "id": "ROPB4R2LTkEp",
        "colab_type": "code",
        "colab": {}
      },
      "source": [
        "model_load = mlflow.pytorch.load_model('models', run_id=\"9a5e902876654a88b9876e481aa37b27\")"
      ],
      "execution_count": 0,
      "outputs": []
    },
    {
      "cell_type": "code",
      "metadata": {
        "id": "lq4cStOP2yA1",
        "colab_type": "code",
        "colab": {}
      },
      "source": [
        "print(model_load)"
      ],
      "execution_count": 0,
      "outputs": []
    },
    {
      "cell_type": "code",
      "metadata": {
        "id": "RuYEYg2mXGgO",
        "colab_type": "code",
        "colab": {}
      },
      "source": [
        "weight_layer0 = list(model_load.parameters())[0].data.numpy()"
      ],
      "execution_count": 0,
      "outputs": []
    },
    {
      "cell_type": "code",
      "metadata": {
        "id": "NpKQf8Xm26--",
        "colab_type": "code",
        "colab": {}
      },
      "source": [
        "print(weight_layer0.shape)"
      ],
      "execution_count": 0,
      "outputs": []
    },
    {
      "cell_type": "code",
      "metadata": {
        "id": "TdyMGfTJYPYV",
        "colab_type": "code",
        "colab": {}
      },
      "source": [
        "sns.distplot(weight_layer0.ravel())\n",
        "plt.plot()"
      ],
      "execution_count": 0,
      "outputs": []
    },
    {
      "cell_type": "code",
      "metadata": {
        "id": "LSt-JF5fXtsV",
        "colab_type": "code",
        "colab": {}
      },
      "source": [
        "sns.heatmap(np.abs(weight_layer0))\n",
        "plt.show()"
      ],
      "execution_count": 0,
      "outputs": []
    },
    {
      "cell_type": "code",
      "metadata": {
        "id": "EnqgQuSbYpJv",
        "colab_type": "code",
        "colab": {}
      },
      "source": [
        "weight_layer1 = list(model_load.parameters())[2].data.numpy()"
      ],
      "execution_count": 0,
      "outputs": []
    },
    {
      "cell_type": "code",
      "metadata": {
        "id": "8SwzNlfAZMAS",
        "colab_type": "code",
        "colab": {}
      },
      "source": [
        "weight_layer1.shape"
      ],
      "execution_count": 0,
      "outputs": []
    },
    {
      "cell_type": "code",
      "metadata": {
        "id": "07DXEwG_ZYSS",
        "colab_type": "code",
        "colab": {}
      },
      "source": [
        "sns.distplot(weight_layer1.ravel())\n",
        "plt.plot()"
      ],
      "execution_count": 0,
      "outputs": []
    },
    {
      "cell_type": "code",
      "metadata": {
        "id": "nF93WTZqYrNR",
        "colab_type": "code",
        "colab": {}
      },
      "source": [
        "sns.heatmap(np.abs(weight_layer1))\n",
        "plt.show()"
      ],
      "execution_count": 0,
      "outputs": []
    },
    {
      "cell_type": "code",
      "metadata": {
        "id": "xwc7w3dA3sIG",
        "colab_type": "code",
        "colab": {}
      },
      "source": [
        "nrows = 6\n",
        "ncols = 8\n",
        "fig = plt.figure(figsize=(1.5*ncols, 1.5*nrows))\n",
        "\n",
        "for i in np.arange(48): \n",
        "    ax1 = fig.add_subplot(nrows, ncols, i+1)\n",
        "    sns.heatmap(np.abs((weight_layer0[i, 0:784]).reshape(28, 28)), ax = ax1, cbar=False)\n",
        "    ax1.axis('off')\n",
        "    ax1.set_xticklabels([])\n",
        "    ax1.set_yticklabels([])\n",
        "    ax1.set_title(i)\n",
        "plt.tight_layout()\n",
        "plt.show()"
      ],
      "execution_count": 0,
      "outputs": []
    },
    {
      "cell_type": "code",
      "metadata": {
        "id": "q2QeVcNZ4yA8",
        "colab_type": "code",
        "colab": {}
      },
      "source": [
        ""
      ],
      "execution_count": 0,
      "outputs": []
    }
  ]
}