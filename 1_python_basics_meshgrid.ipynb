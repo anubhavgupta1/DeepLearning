{
  "nbformat": 4,
  "nbformat_minor": 0,
  "metadata": {
    "colab": {
      "name": "1_python_basics_meshgrid.ipynb",
      "provenance": [],
      "authorship_tag": "ABX9TyNO5+skztGH3mPZ4fuYZoz+",
      "include_colab_link": true
    },
    "kernelspec": {
      "name": "python3",
      "display_name": "Python 3"
    }
  },
  "cells": [
    {
      "cell_type": "markdown",
      "metadata": {
        "id": "view-in-github",
        "colab_type": "text"
      },
      "source": [
        "<a href=\"https://colab.research.google.com/github/anubhavgupta1/DeepLearning/blob/master/1_python_basics_meshgrid.ipynb\" target=\"_parent\"><img src=\"https://colab.research.google.com/assets/colab-badge.svg\" alt=\"Open In Colab\"/></a>"
      ]
    },
    {
      "cell_type": "code",
      "metadata": {
        "id": "CHitgeru1YSV",
        "colab_type": "code",
        "colab": {}
      },
      "source": [
        "import numpy as np\n",
        "import matplotlib.pyplot as plt\n",
        "import matplotlib.colors\n",
        "import pandas as pd\n",
        "from sklearn.model_selection import train_test_split\n",
        "from sklearn.metrics import accuracy_score, mean_squared_error, log_loss\n",
        "from tqdm import tqdm_notebook \n",
        "import seaborn as sns\n",
        "import imageio\n",
        "from IPython.display import HTML\n",
        "\n",
        "\n",
        "from sklearn.preprocessing import OneHotEncoder\n",
        "from sklearn.datasets import make_blobs\n",
        "\n",
        "from IPython import display"
      ],
      "execution_count": 0,
      "outputs": []
    },
    {
      "cell_type": "code",
      "metadata": {
        "id": "HOB6DTSF1bgI",
        "colab_type": "code",
        "colab": {
          "base_uri": "https://localhost:8080/",
          "height": 118
        },
        "outputId": "e1d8db22-9199-4a9a-f560-35ca1a6b372d"
      },
      "source": [
        "my_cmap = matplotlib.colors.LinearSegmentedColormap.from_list(\"\",[\"red\",\"yellow\",\"green\"])\n",
        "np.random.seed(0)\n",
        "data, labels = make_blobs(n_samples=1000,n_features=2, centers=4,random_state=0)\n",
        "print(data.shape,\"\\n\", labels.shape)\n",
        "labels_orig = labels\n",
        "labels = np.mod(labels_orig,2)\n",
        "X_train, X_val, Y_train, Y_val = train_test_split(data,labels,stratify=labels,random_state =0)\n",
        "print(\"Train data : \\n\", X_train.shape, Y_train.shape)\n",
        "print(\"Validation data : \\n\", X_val.shape, Y_val.shape)"
      ],
      "execution_count": 2,
      "outputs": [
        {
          "output_type": "stream",
          "text": [
            "(1000, 2) \n",
            " (1000,)\n",
            "Train data : \n",
            " (750, 2) (750,)\n",
            "Validation data : \n",
            " (250, 2) (250,)\n"
          ],
          "name": "stdout"
        }
      ]
    },
    {
      "cell_type": "code",
      "metadata": {
        "id": "Zp72ZwyZ3hs_",
        "colab_type": "code",
        "colab": {
          "base_uri": "https://localhost:8080/",
          "height": 50
        },
        "outputId": "bccd9f9b-c757-47c8-cb37-d930d0d20644"
      },
      "source": [
        "print(X_train[:,0].min(),X_train[:,0].max())\n",
        "print(X_train[:,0].min()-0.5,X_train[:,0].max()+0.5)"
      ],
      "execution_count": 10,
      "outputs": [
        {
          "output_type": "stream",
          "text": [
            "-4.521516873449524 4.40191455195944\n",
            "-5.021516873449524 4.90191455195944\n"
          ],
          "name": "stdout"
        }
      ]
    },
    {
      "cell_type": "code",
      "metadata": {
        "id": "5Xs5byT_2h9H",
        "colab_type": "code",
        "colab": {
          "base_uri": "https://localhost:8080/",
          "height": 50
        },
        "outputId": "f93db45a-7ce0-4b00-b558-ccadef3c5f7b"
      },
      "source": [
        "print(X_train[:,1].min(),X_train[:,1].max())\n",
        "print(X_train[:,1].min()-0.5,X_train[:,1].max()+0.5)"
      ],
      "execution_count": 11,
      "outputs": [
        {
          "output_type": "stream",
          "text": [
            "-1.9368908453367655 10.375691636400767\n",
            "-2.4368908453367655 10.875691636400767\n"
          ],
          "name": "stdout"
        }
      ]
    },
    {
      "cell_type": "code",
      "metadata": {
        "id": "8MrHRUW53Hoa",
        "colab_type": "code",
        "colab": {
          "base_uri": "https://localhost:8080/",
          "height": 34
        },
        "outputId": "87b21273-6ef6-46e9-951a-0d22df16f04f"
      },
      "source": [
        "np.arange(2,3,0.1)"
      ],
      "execution_count": 13,
      "outputs": [
        {
          "output_type": "execute_result",
          "data": {
            "text/plain": [
              "array([2. , 2.1, 2.2, 2.3, 2.4, 2.5, 2.6, 2.7, 2.8, 2.9])"
            ]
          },
          "metadata": {
            "tags": []
          },
          "execution_count": 13
        }
      ]
    },
    {
      "cell_type": "code",
      "metadata": {
        "id": "qfS0yzLE6lIM",
        "colab_type": "code",
        "colab": {
          "base_uri": "https://localhost:8080/",
          "height": 50
        },
        "outputId": "5f33bbe3-a674-418a-ced7-7a78229792a8"
      },
      "source": [
        "print(len(np.arange(X_train[:,0].min()-0.5,X_train[:,0].max()+0.5,0.2)))\n",
        "print(len(np.arange(X_train[:,1].min()-0.5,X_train[:,1].max()+0.5,0.2)))"
      ],
      "execution_count": 18,
      "outputs": [
        {
          "output_type": "stream",
          "text": [
            "50\n",
            "67\n"
          ],
          "name": "stdout"
        }
      ]
    },
    {
      "cell_type": "code",
      "metadata": {
        "id": "CXhfjrx27j96",
        "colab_type": "code",
        "colab": {}
      },
      "source": [
        "x = np.arange(X_train[:,0].min()-0.5,X_train[:,0].max()+0.5,0.2)\n",
        "y = np.arange(X_train[:,1].min()-0.5,X_train[:,1].max()+0.5,0.2)"
      ],
      "execution_count": 0,
      "outputs": []
    },
    {
      "cell_type": "code",
      "metadata": {
        "id": "p9pUVzC773bn",
        "colab_type": "code",
        "colab": {
          "base_uri": "https://localhost:8080/",
          "height": 34
        },
        "outputId": "629bc134-9764-432c-da2b-813ff4e12163"
      },
      "source": [
        "xx , yy = np.meshgrid(x,y)\n",
        "print(xx.shape, yy.shape)"
      ],
      "execution_count": 21,
      "outputs": [
        {
          "output_type": "stream",
          "text": [
            "(67, 50) (67, 50)\n"
          ],
          "name": "stdout"
        }
      ]
    },
    {
      "cell_type": "code",
      "metadata": {
        "id": "xWAmCb5P93t2",
        "colab_type": "code",
        "colab": {
          "base_uri": "https://localhost:8080/",
          "height": 34
        },
        "outputId": "0c2b47c0-3e80-498b-a6ab-3b6ad24dffe4"
      },
      "source": [
        "a, b = np.meshgrid(np.asarray([2,3]), np.asarray([4,5,6]))\n",
        "print(a.shape, b.shape)"
      ],
      "execution_count": 22,
      "outputs": [
        {
          "output_type": "stream",
          "text": [
            "(3, 2) (3, 2)\n"
          ],
          "name": "stdout"
        }
      ]
    },
    {
      "cell_type": "code",
      "metadata": {
        "id": "FIXo2SCE-Ne0",
        "colab_type": "code",
        "colab": {
          "base_uri": "https://localhost:8080/",
          "height": 67
        },
        "outputId": "663f0e39-0444-46f2-e443-4d34d3e1b6b5"
      },
      "source": [
        "a"
      ],
      "execution_count": 23,
      "outputs": [
        {
          "output_type": "execute_result",
          "data": {
            "text/plain": [
              "array([[2, 3],\n",
              "       [2, 3],\n",
              "       [2, 3]])"
            ]
          },
          "metadata": {
            "tags": []
          },
          "execution_count": 23
        }
      ]
    },
    {
      "cell_type": "code",
      "metadata": {
        "id": "oaZOEYbW-UWX",
        "colab_type": "code",
        "colab": {
          "base_uri": "https://localhost:8080/",
          "height": 67
        },
        "outputId": "b770ca90-446f-4f08-8ff8-ae9542e9e594"
      },
      "source": [
        "b"
      ],
      "execution_count": 24,
      "outputs": [
        {
          "output_type": "execute_result",
          "data": {
            "text/plain": [
              "array([[4, 4],\n",
              "       [5, 5],\n",
              "       [6, 6]])"
            ]
          },
          "metadata": {
            "tags": []
          },
          "execution_count": 24
        }
      ]
    }
  ]
}