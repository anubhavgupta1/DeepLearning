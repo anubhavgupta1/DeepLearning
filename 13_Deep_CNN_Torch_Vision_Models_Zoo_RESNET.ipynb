{
  "nbformat": 4,
  "nbformat_minor": 0,
  "metadata": {
    "colab": {
      "name": "13_Deep_CNN_Torch_Vision_Models_Zoo_RESNET.ipynb",
      "provenance": [],
      "authorship_tag": "ABX9TyPtuo4BWf4h0CezJ/HzjwDB",
      "include_colab_link": true
    },
    "kernelspec": {
      "name": "python3",
      "display_name": "Python 3"
    },
    "accelerator": "GPU",
    "widgets": {
      "application/vnd.jupyter.widget-state+json": {
        "432e83f73d0c4570a8001eebe6a91d3d": {
          "model_module": "@jupyter-widgets/controls",
          "model_name": "HBoxModel",
          "state": {
            "_view_name": "HBoxView",
            "_dom_classes": [],
            "_model_name": "HBoxModel",
            "_view_module": "@jupyter-widgets/controls",
            "_model_module_version": "1.5.0",
            "_view_count": null,
            "_view_module_version": "1.5.0",
            "box_style": "",
            "layout": "IPY_MODEL_b09a0aa66a3c4fdb9d91cbaafd03bfdf",
            "_model_module": "@jupyter-widgets/controls",
            "children": [
              "IPY_MODEL_b49ff30dd5ac4d25a6ca49d5e3f886da",
              "IPY_MODEL_d94f2fe44a8342aa8484a7721c0b794e"
            ]
          }
        },
        "b09a0aa66a3c4fdb9d91cbaafd03bfdf": {
          "model_module": "@jupyter-widgets/base",
          "model_name": "LayoutModel",
          "state": {
            "_view_name": "LayoutView",
            "grid_template_rows": null,
            "right": null,
            "justify_content": null,
            "_view_module": "@jupyter-widgets/base",
            "overflow": null,
            "_model_module_version": "1.2.0",
            "_view_count": null,
            "flex_flow": null,
            "width": null,
            "min_width": null,
            "border": null,
            "align_items": null,
            "bottom": null,
            "_model_module": "@jupyter-widgets/base",
            "top": null,
            "grid_column": null,
            "overflow_y": null,
            "overflow_x": null,
            "grid_auto_flow": null,
            "grid_area": null,
            "grid_template_columns": null,
            "flex": null,
            "_model_name": "LayoutModel",
            "justify_items": null,
            "grid_row": null,
            "max_height": null,
            "align_content": null,
            "visibility": null,
            "align_self": null,
            "height": null,
            "min_height": null,
            "padding": null,
            "grid_auto_rows": null,
            "grid_gap": null,
            "max_width": null,
            "order": null,
            "_view_module_version": "1.2.0",
            "grid_template_areas": null,
            "object_position": null,
            "object_fit": null,
            "grid_auto_columns": null,
            "margin": null,
            "display": null,
            "left": null
          }
        },
        "b49ff30dd5ac4d25a6ca49d5e3f886da": {
          "model_module": "@jupyter-widgets/controls",
          "model_name": "IntProgressModel",
          "state": {
            "_view_name": "ProgressView",
            "style": "IPY_MODEL_edfda125a31c4222a77f9f5c96969ead",
            "_dom_classes": [],
            "description": "",
            "_model_name": "IntProgressModel",
            "bar_style": "success",
            "max": 1,
            "_view_module": "@jupyter-widgets/controls",
            "_model_module_version": "1.5.0",
            "value": 1,
            "_view_count": null,
            "_view_module_version": "1.5.0",
            "orientation": "horizontal",
            "min": 0,
            "description_tooltip": null,
            "_model_module": "@jupyter-widgets/controls",
            "layout": "IPY_MODEL_fbc2b2878e784a55b7e74b58322c02b5"
          }
        },
        "d94f2fe44a8342aa8484a7721c0b794e": {
          "model_module": "@jupyter-widgets/controls",
          "model_name": "HTMLModel",
          "state": {
            "_view_name": "HTMLView",
            "style": "IPY_MODEL_ceac2e12d41c4918b74ca7386da6ecf7",
            "_dom_classes": [],
            "description": "",
            "_model_name": "HTMLModel",
            "placeholder": "​",
            "_view_module": "@jupyter-widgets/controls",
            "_model_module_version": "1.5.0",
            "value": "170500096it [00:01, 87872271.14it/s]",
            "_view_count": null,
            "_view_module_version": "1.5.0",
            "description_tooltip": null,
            "_model_module": "@jupyter-widgets/controls",
            "layout": "IPY_MODEL_5987b7aadda746a889456e2f9684566e"
          }
        },
        "edfda125a31c4222a77f9f5c96969ead": {
          "model_module": "@jupyter-widgets/controls",
          "model_name": "ProgressStyleModel",
          "state": {
            "_view_name": "StyleView",
            "_model_name": "ProgressStyleModel",
            "description_width": "",
            "_view_module": "@jupyter-widgets/base",
            "_model_module_version": "1.5.0",
            "_view_count": null,
            "_view_module_version": "1.2.0",
            "bar_color": null,
            "_model_module": "@jupyter-widgets/controls"
          }
        },
        "fbc2b2878e784a55b7e74b58322c02b5": {
          "model_module": "@jupyter-widgets/base",
          "model_name": "LayoutModel",
          "state": {
            "_view_name": "LayoutView",
            "grid_template_rows": null,
            "right": null,
            "justify_content": null,
            "_view_module": "@jupyter-widgets/base",
            "overflow": null,
            "_model_module_version": "1.2.0",
            "_view_count": null,
            "flex_flow": null,
            "width": null,
            "min_width": null,
            "border": null,
            "align_items": null,
            "bottom": null,
            "_model_module": "@jupyter-widgets/base",
            "top": null,
            "grid_column": null,
            "overflow_y": null,
            "overflow_x": null,
            "grid_auto_flow": null,
            "grid_area": null,
            "grid_template_columns": null,
            "flex": null,
            "_model_name": "LayoutModel",
            "justify_items": null,
            "grid_row": null,
            "max_height": null,
            "align_content": null,
            "visibility": null,
            "align_self": null,
            "height": null,
            "min_height": null,
            "padding": null,
            "grid_auto_rows": null,
            "grid_gap": null,
            "max_width": null,
            "order": null,
            "_view_module_version": "1.2.0",
            "grid_template_areas": null,
            "object_position": null,
            "object_fit": null,
            "grid_auto_columns": null,
            "margin": null,
            "display": null,
            "left": null
          }
        },
        "ceac2e12d41c4918b74ca7386da6ecf7": {
          "model_module": "@jupyter-widgets/controls",
          "model_name": "DescriptionStyleModel",
          "state": {
            "_view_name": "StyleView",
            "_model_name": "DescriptionStyleModel",
            "description_width": "",
            "_view_module": "@jupyter-widgets/base",
            "_model_module_version": "1.5.0",
            "_view_count": null,
            "_view_module_version": "1.2.0",
            "_model_module": "@jupyter-widgets/controls"
          }
        },
        "5987b7aadda746a889456e2f9684566e": {
          "model_module": "@jupyter-widgets/base",
          "model_name": "LayoutModel",
          "state": {
            "_view_name": "LayoutView",
            "grid_template_rows": null,
            "right": null,
            "justify_content": null,
            "_view_module": "@jupyter-widgets/base",
            "overflow": null,
            "_model_module_version": "1.2.0",
            "_view_count": null,
            "flex_flow": null,
            "width": null,
            "min_width": null,
            "border": null,
            "align_items": null,
            "bottom": null,
            "_model_module": "@jupyter-widgets/base",
            "top": null,
            "grid_column": null,
            "overflow_y": null,
            "overflow_x": null,
            "grid_auto_flow": null,
            "grid_area": null,
            "grid_template_columns": null,
            "flex": null,
            "_model_name": "LayoutModel",
            "justify_items": null,
            "grid_row": null,
            "max_height": null,
            "align_content": null,
            "visibility": null,
            "align_self": null,
            "height": null,
            "min_height": null,
            "padding": null,
            "grid_auto_rows": null,
            "grid_gap": null,
            "max_width": null,
            "order": null,
            "_view_module_version": "1.2.0",
            "grid_template_areas": null,
            "object_position": null,
            "object_fit": null,
            "grid_auto_columns": null,
            "margin": null,
            "display": null,
            "left": null
          }
        },
        "ad674cd4f5d94de88927901cc62c0a3f": {
          "model_module": "@jupyter-widgets/controls",
          "model_name": "HBoxModel",
          "state": {
            "_view_name": "HBoxView",
            "_dom_classes": [],
            "_model_name": "HBoxModel",
            "_view_module": "@jupyter-widgets/controls",
            "_model_module_version": "1.5.0",
            "_view_count": null,
            "_view_module_version": "1.5.0",
            "box_style": "",
            "layout": "IPY_MODEL_26f4c00c501a4eb2a52c9e6bd56d39f9",
            "_model_module": "@jupyter-widgets/controls",
            "children": [
              "IPY_MODEL_734ebbb9e0f844afa265c385c2538ff1",
              "IPY_MODEL_f29490282c784bdba25b65462c9b2826"
            ]
          }
        },
        "26f4c00c501a4eb2a52c9e6bd56d39f9": {
          "model_module": "@jupyter-widgets/base",
          "model_name": "LayoutModel",
          "state": {
            "_view_name": "LayoutView",
            "grid_template_rows": null,
            "right": null,
            "justify_content": null,
            "_view_module": "@jupyter-widgets/base",
            "overflow": null,
            "_model_module_version": "1.2.0",
            "_view_count": null,
            "flex_flow": null,
            "width": null,
            "min_width": null,
            "border": null,
            "align_items": null,
            "bottom": null,
            "_model_module": "@jupyter-widgets/base",
            "top": null,
            "grid_column": null,
            "overflow_y": null,
            "overflow_x": null,
            "grid_auto_flow": null,
            "grid_area": null,
            "grid_template_columns": null,
            "flex": null,
            "_model_name": "LayoutModel",
            "justify_items": null,
            "grid_row": null,
            "max_height": null,
            "align_content": null,
            "visibility": null,
            "align_self": null,
            "height": null,
            "min_height": null,
            "padding": null,
            "grid_auto_rows": null,
            "grid_gap": null,
            "max_width": null,
            "order": null,
            "_view_module_version": "1.2.0",
            "grid_template_areas": null,
            "object_position": null,
            "object_fit": null,
            "grid_auto_columns": null,
            "margin": null,
            "display": null,
            "left": null
          }
        },
        "734ebbb9e0f844afa265c385c2538ff1": {
          "model_module": "@jupyter-widgets/controls",
          "model_name": "IntProgressModel",
          "state": {
            "_view_name": "ProgressView",
            "style": "IPY_MODEL_ac319f7ae51d4ade9a6c642388ae5c3a",
            "_dom_classes": [],
            "description": "",
            "_model_name": "IntProgressModel",
            "bar_style": "success",
            "max": 46827520,
            "_view_module": "@jupyter-widgets/controls",
            "_model_module_version": "1.5.0",
            "value": 46827520,
            "_view_count": null,
            "_view_module_version": "1.5.0",
            "orientation": "horizontal",
            "min": 0,
            "description_tooltip": null,
            "_model_module": "@jupyter-widgets/controls",
            "layout": "IPY_MODEL_21a30207fb544bd09823a2be31a472e6"
          }
        },
        "f29490282c784bdba25b65462c9b2826": {
          "model_module": "@jupyter-widgets/controls",
          "model_name": "HTMLModel",
          "state": {
            "_view_name": "HTMLView",
            "style": "IPY_MODEL_49d78a37a76747ccb21d29d57b0d51fe",
            "_dom_classes": [],
            "description": "",
            "_model_name": "HTMLModel",
            "placeholder": "​",
            "_view_module": "@jupyter-widgets/controls",
            "_model_module_version": "1.5.0",
            "value": "100% 44.7M/44.7M [00:00&lt;00:00, 58.7MB/s]",
            "_view_count": null,
            "_view_module_version": "1.5.0",
            "description_tooltip": null,
            "_model_module": "@jupyter-widgets/controls",
            "layout": "IPY_MODEL_0319990b4ac244a293ab5470663d0e94"
          }
        },
        "ac319f7ae51d4ade9a6c642388ae5c3a": {
          "model_module": "@jupyter-widgets/controls",
          "model_name": "ProgressStyleModel",
          "state": {
            "_view_name": "StyleView",
            "_model_name": "ProgressStyleModel",
            "description_width": "",
            "_view_module": "@jupyter-widgets/base",
            "_model_module_version": "1.5.0",
            "_view_count": null,
            "_view_module_version": "1.2.0",
            "bar_color": null,
            "_model_module": "@jupyter-widgets/controls"
          }
        },
        "21a30207fb544bd09823a2be31a472e6": {
          "model_module": "@jupyter-widgets/base",
          "model_name": "LayoutModel",
          "state": {
            "_view_name": "LayoutView",
            "grid_template_rows": null,
            "right": null,
            "justify_content": null,
            "_view_module": "@jupyter-widgets/base",
            "overflow": null,
            "_model_module_version": "1.2.0",
            "_view_count": null,
            "flex_flow": null,
            "width": null,
            "min_width": null,
            "border": null,
            "align_items": null,
            "bottom": null,
            "_model_module": "@jupyter-widgets/base",
            "top": null,
            "grid_column": null,
            "overflow_y": null,
            "overflow_x": null,
            "grid_auto_flow": null,
            "grid_area": null,
            "grid_template_columns": null,
            "flex": null,
            "_model_name": "LayoutModel",
            "justify_items": null,
            "grid_row": null,
            "max_height": null,
            "align_content": null,
            "visibility": null,
            "align_self": null,
            "height": null,
            "min_height": null,
            "padding": null,
            "grid_auto_rows": null,
            "grid_gap": null,
            "max_width": null,
            "order": null,
            "_view_module_version": "1.2.0",
            "grid_template_areas": null,
            "object_position": null,
            "object_fit": null,
            "grid_auto_columns": null,
            "margin": null,
            "display": null,
            "left": null
          }
        },
        "49d78a37a76747ccb21d29d57b0d51fe": {
          "model_module": "@jupyter-widgets/controls",
          "model_name": "DescriptionStyleModel",
          "state": {
            "_view_name": "StyleView",
            "_model_name": "DescriptionStyleModel",
            "description_width": "",
            "_view_module": "@jupyter-widgets/base",
            "_model_module_version": "1.5.0",
            "_view_count": null,
            "_view_module_version": "1.2.0",
            "_model_module": "@jupyter-widgets/controls"
          }
        },
        "0319990b4ac244a293ab5470663d0e94": {
          "model_module": "@jupyter-widgets/base",
          "model_name": "LayoutModel",
          "state": {
            "_view_name": "LayoutView",
            "grid_template_rows": null,
            "right": null,
            "justify_content": null,
            "_view_module": "@jupyter-widgets/base",
            "overflow": null,
            "_model_module_version": "1.2.0",
            "_view_count": null,
            "flex_flow": null,
            "width": null,
            "min_width": null,
            "border": null,
            "align_items": null,
            "bottom": null,
            "_model_module": "@jupyter-widgets/base",
            "top": null,
            "grid_column": null,
            "overflow_y": null,
            "overflow_x": null,
            "grid_auto_flow": null,
            "grid_area": null,
            "grid_template_columns": null,
            "flex": null,
            "_model_name": "LayoutModel",
            "justify_items": null,
            "grid_row": null,
            "max_height": null,
            "align_content": null,
            "visibility": null,
            "align_self": null,
            "height": null,
            "min_height": null,
            "padding": null,
            "grid_auto_rows": null,
            "grid_gap": null,
            "max_width": null,
            "order": null,
            "_view_module_version": "1.2.0",
            "grid_template_areas": null,
            "object_position": null,
            "object_fit": null,
            "grid_auto_columns": null,
            "margin": null,
            "display": null,
            "left": null
          }
        }
      }
    }
  },
  "cells": [
    {
      "cell_type": "markdown",
      "metadata": {
        "id": "view-in-github",
        "colab_type": "text"
      },
      "source": [
        "<a href=\"https://colab.research.google.com/github/anubhavgupta1/DeepLearning/blob/master/13_Deep_CNN_Torch_Vision_Models_Zoo_RESNET.ipynb\" target=\"_parent\"><img src=\"https://colab.research.google.com/assets/colab-badge.svg\" alt=\"Open In Colab\"/></a>"
      ]
    },
    {
      "cell_type": "markdown",
      "metadata": {
        "id": "6KNf9CD2ytqH",
        "colab_type": "text"
      },
      "source": [
        "## Outline"
      ]
    },
    {
      "cell_type": "markdown",
      "metadata": {
        "id": "BDKI47gsW1Ii",
        "colab_type": "text"
      },
      "source": [
        "1. Loading datasets - Transforming images\n",
        "2. VGG-16 with modification to network head\n",
        "3. Using pre-trained models\n",
        "4. Storing intermediate models\n",
        "5. Resnet\n",
        "6. Inception v3"
      ]
    },
    {
      "cell_type": "code",
      "metadata": {
        "id": "rbZpqiiiylAg",
        "colab_type": "code",
        "colab": {}
      },
      "source": [
        "import matplotlib.pyplot as plt\n",
        "import numpy as np\n",
        "\n",
        "import torch\n",
        "import torchvision\n",
        "import torchvision.transforms as transforms\n",
        "import torch.nn as nn\n",
        "import torch.optim as optim\n",
        "from torchvision import models\n",
        "import copy\n"
      ],
      "execution_count": 0,
      "outputs": []
    },
    {
      "cell_type": "code",
      "metadata": {
        "id": "wzd2dwlP_II0",
        "colab_type": "code",
        "colab": {}
      },
      "source": [
        "def find_parameters(x):\n",
        "  total_parameters = 0\n",
        "  for param in x:\n",
        "    a = param.shape\n",
        "    print(a)\n",
        "    i = 0\n",
        "    temp = 1\n",
        "    while i < len(a):\n",
        "      temp = temp * a[i]\n",
        "      i = i + 1\n",
        "    total_parameters = total_parameters + temp\n",
        "  print(\"Total Parameters = \",total_parameters)"
      ],
      "execution_count": 0,
      "outputs": []
    },
    {
      "cell_type": "code",
      "metadata": {
        "id": "1NBprN3Ry2NE",
        "colab_type": "code",
        "outputId": "e2c4b21a-e935-451a-a893-8aaa572bf68f",
        "colab": {
          "base_uri": "https://localhost:8080/",
          "height": 34
        }
      },
      "source": [
        "device = torch.device(\"cuda:0\" if torch.cuda.is_available() else \"cpu\")\n",
        "print(device)"
      ],
      "execution_count": 4,
      "outputs": [
        {
          "output_type": "stream",
          "text": [
            "cuda:0\n"
          ],
          "name": "stdout"
        }
      ]
    },
    {
      "cell_type": "code",
      "metadata": {
        "id": "soMBiBjoNq9_",
        "colab_type": "code",
        "colab": {}
      },
      "source": [
        "#Transfer Learning\n",
        "# Using a model that is pre-trained on large comprehensive datasets and transferring that learning by modifying it slightly to perform the task at hand."
      ],
      "execution_count": 0,
      "outputs": []
    },
    {
      "cell_type": "markdown",
      "metadata": {
        "id": "hGzpz3oE1Ikz",
        "colab_type": "text"
      },
      "source": [
        "## Dataset, transforms, and visualisation"
      ]
    },
    {
      "cell_type": "code",
      "metadata": {
        "id": "gWk_I9FLl2k_",
        "colab_type": "code",
        "colab": {}
      },
      "source": [
        "#Z-score normalization\n",
        "#z_i = (x_i - x_mean)/x_std_deviation now z_i will lie between ( 0 and 1 ) \n",
        "#The main difference comes after normalizing the values as it reduces the skewness in our data, \n",
        "#it's just hypothetical that at mean=0.5 and std=0.5, CNNs tend to train better."
      ],
      "execution_count": 0,
      "outputs": []
    },
    {
      "cell_type": "code",
      "metadata": {
        "id": "Y9c57fNA5Wsi",
        "colab_type": "code",
        "colab": {}
      },
      "source": [
        "#sequence of operations in a pipeline\n",
        "\n",
        "transform_train = transforms.Compose([\n",
        "    transforms.RandomResizedCrop(224),  #CIFAR10 32 x 32 ==> 224 X 224 { VGG16, ResNet 224 x 224 }\n",
        "    transforms.ToTensor(), #conversion into tensor \n",
        "    transforms.Normalize((0.5, 0.5, 0.5), (0.5, 0.5, 0.5)), #Z-score normalization\n",
        "    ])\n",
        "\n",
        "transform_test = transforms.Compose([\n",
        "    transforms.RandomResizedCrop(224), \n",
        "    transforms.ToTensor(),\n",
        "    transforms.Normalize((0.5, 0.5, 0.5), (0.5, 0.5, 0.5)),\n",
        "    ])"
      ],
      "execution_count": 0,
      "outputs": []
    },
    {
      "cell_type": "code",
      "metadata": {
        "id": "fvsHorMPzISb",
        "colab_type": "code",
        "outputId": "855919e1-87b1-4b92-ef09-2237b25005d2",
        "colab": {
          "base_uri": "https://localhost:8080/",
          "height": 116,
          "referenced_widgets": [
            "432e83f73d0c4570a8001eebe6a91d3d",
            "b09a0aa66a3c4fdb9d91cbaafd03bfdf",
            "b49ff30dd5ac4d25a6ca49d5e3f886da",
            "d94f2fe44a8342aa8484a7721c0b794e",
            "edfda125a31c4222a77f9f5c96969ead",
            "fbc2b2878e784a55b7e74b58322c02b5",
            "ceac2e12d41c4918b74ca7386da6ecf7",
            "5987b7aadda746a889456e2f9684566e"
          ]
        }
      },
      "source": [
        "#download of CIFAR 10 IMAGES\n",
        "\n",
        "trainset = torchvision.datasets.CIFAR10(root='./data', train=True, \n",
        "                                        download=True, \n",
        "                                        transform=transform_train)\n",
        "testset = torchvision.datasets.CIFAR10(root='./data', train=False, \n",
        "                                        download=True, \n",
        "                                        transform=transform_test)"
      ],
      "execution_count": 8,
      "outputs": [
        {
          "output_type": "stream",
          "text": [
            "Downloading https://www.cs.toronto.edu/~kriz/cifar-10-python.tar.gz to ./data/cifar-10-python.tar.gz\n"
          ],
          "name": "stdout"
        },
        {
          "output_type": "display_data",
          "data": {
            "application/vnd.jupyter.widget-view+json": {
              "model_id": "432e83f73d0c4570a8001eebe6a91d3d",
              "version_minor": 0,
              "version_major": 2
            },
            "text/plain": [
              "HBox(children=(IntProgress(value=1, bar_style='info', max=1), HTML(value='')))"
            ]
          },
          "metadata": {
            "tags": []
          }
        },
        {
          "output_type": "stream",
          "text": [
            "\n",
            "Extracting ./data/cifar-10-python.tar.gz to ./data\n",
            "Files already downloaded and verified\n"
          ],
          "name": "stdout"
        }
      ]
    },
    {
      "cell_type": "code",
      "metadata": {
        "id": "V0dOpKtiAG4s",
        "colab_type": "code",
        "colab": {}
      },
      "source": [
        "#CIFAR10 has 10 classes\n",
        "num_classes = 10"
      ],
      "execution_count": 0,
      "outputs": []
    },
    {
      "cell_type": "code",
      "metadata": {
        "id": "xTNj3LQY4eTS",
        "colab_type": "code",
        "colab": {}
      },
      "source": [
        "batch_size = 4"
      ],
      "execution_count": 0,
      "outputs": []
    },
    {
      "cell_type": "code",
      "metadata": {
        "id": "KfLwRIXH08tg",
        "colab_type": "code",
        "colab": {}
      },
      "source": [
        "trainloader = torch.utils.data.DataLoader(trainset, batch_size=batch_size, shuffle=True)"
      ],
      "execution_count": 0,
      "outputs": []
    },
    {
      "cell_type": "code",
      "metadata": {
        "id": "KEOz-75x1NGu",
        "colab_type": "code",
        "outputId": "8b86f747-4280-41c8-a7f7-695ac5d9f9db",
        "colab": {
          "base_uri": "https://localhost:8080/",
          "height": 67
        }
      },
      "source": [
        "dataiter = iter(trainloader)\n",
        "images, labels = dataiter.next()\n",
        "\n",
        "print(images.shape)\n",
        "\n",
        "print(images[1].shape)\n",
        "print(labels[1].item())"
      ],
      "execution_count": 12,
      "outputs": [
        {
          "output_type": "stream",
          "text": [
            "torch.Size([4, 3, 224, 224])\n",
            "torch.Size([3, 224, 224])\n",
            "7\n"
          ],
          "name": "stdout"
        }
      ]
    },
    {
      "cell_type": "code",
      "metadata": {
        "id": "nc-RuCWzgDNU",
        "colab_type": "code",
        "colab": {}
      },
      "source": [
        "#How would you de-normalize an image after it undergoes transforms.Normalize((0.3, 0.3, 0.3), (0.4, 0.4, 0.4))\n",
        "#npimg = img.numpy() / 2.5 + 0.3\n"
      ],
      "execution_count": 0,
      "outputs": []
    },
    {
      "cell_type": "code",
      "metadata": {
        "id": "5oBeIwYC1N3c",
        "colab_type": "code",
        "colab": {}
      },
      "source": [
        "def imshow(img, title):\n",
        "    npimg = img.numpy() / 2 + 0.5 #un-normalize image pixels\n",
        "    plt.figure(figsize=(batch_size, 1))\n",
        "    plt.axis('off')\n",
        "    plt.imshow(np.transpose(npimg, (1, 2, 0))) # 3, 224, 224 ===> 224, 224, 3\n",
        "    plt.title(title)\n",
        "    plt.show()"
      ],
      "execution_count": 0,
      "outputs": []
    },
    {
      "cell_type": "code",
      "metadata": {
        "id": "cfk-SYLY1Sbl",
        "colab_type": "code",
        "colab": {}
      },
      "source": [
        "def show_batch_images(dataloader):\n",
        "    images, labels = next(iter(dataloader))\n",
        "    img = torchvision.utils.make_grid(images)\n",
        "    imshow(img, title=[str(x.item()) for x in labels])"
      ],
      "execution_count": 0,
      "outputs": []
    },
    {
      "cell_type": "code",
      "metadata": {
        "id": "l_Zi_s3p1htN",
        "colab_type": "code",
        "outputId": "6911c20e-3a72-4f08-8289-71148115acfb",
        "colab": {
          "base_uri": "https://localhost:8080/",
          "height": 353
        }
      },
      "source": [
        "for i in range(4):\n",
        "    show_batch_images(trainloader)"
      ],
      "execution_count": 15,
      "outputs": [
        {
          "output_type": "display_data",
          "data": {
            "image/png": "[encoded data removed]",
            "text/plain": [
              "<Figure size 288x72 with 1 Axes>"
            ]
          },
          "metadata": {
            "tags": []
          }
        },
        {
          "output_type": "display_data",
          "data": {
            "image/png": "[encoded data removed]",
            "text/plain": [
              "<Figure size 288x72 with 1 Axes>"
            ]
          },
          "metadata": {
            "tags": []
          }
        },
        {
          "output_type": "display_data",
          "data": {
            "image/png": "[encoded data removed]",
            "text/plain": [
              "<Figure size 288x72 with 1 Axes>"
            ]
          },
          "metadata": {
            "tags": []
          }
        },
        {
          "output_type": "display_data",
          "data": {
            "image/png": "[encoded data removed]",
            "text/plain": [
              "<Figure size 288x72 with 1 Axes>"
            ]
          },
          "metadata": {
            "tags": []
          }
        }
      ]
    },
    {
      "cell_type": "markdown",
      "metadata": {
        "id": "83zNw_MLFBhd",
        "colab_type": "text"
      },
      "source": [
        "## ResNet Model"
      ]
    },
    {
      "cell_type": "markdown",
      "metadata": {
        "id": "RJHZ2ibFGYfG",
        "colab_type": "text"
      },
      "source": [
        "https://pytorch.org/docs/master/_modules/torchvision/models/resnet.html"
      ]
    },
    {
      "cell_type": "code",
      "metadata": {
        "id": "gYZJSHEKFDfS",
        "colab_type": "code",
        "outputId": "f9e705b3-d7b7-4267-e5fa-9cb4a14291bd",
        "colab": {
          "base_uri": "https://localhost:8080/",
          "height": 82,
          "referenced_widgets": [
            "ad674cd4f5d94de88927901cc62c0a3f",
            "26f4c00c501a4eb2a52c9e6bd56d39f9",
            "734ebbb9e0f844afa265c385c2538ff1",
            "f29490282c784bdba25b65462c9b2826",
            "ac319f7ae51d4ade9a6c642388ae5c3a",
            "21a30207fb544bd09823a2be31a472e6",
            "49d78a37a76747ccb21d29d57b0d51fe",
            "0319990b4ac244a293ab5470663d0e94"
          ]
        }
      },
      "source": [
        "resnet = models.resnet18(pretrained=True)"
      ],
      "execution_count": 16,
      "outputs": [
        {
          "output_type": "stream",
          "text": [
            "Downloading: \"https://download.pytorch.org/models/resnet18-5c106cde.pth\" to /root/.cache/torch/checkpoints/resnet18-5c106cde.pth\n"
          ],
          "name": "stderr"
        },
        {
          "output_type": "display_data",
          "data": {
            "application/vnd.jupyter.widget-view+json": {
              "model_id": "ad674cd4f5d94de88927901cc62c0a3f",
              "version_minor": 0,
              "version_major": 2
            },
            "text/plain": [
              "HBox(children=(IntProgress(value=0, max=46827520), HTML(value='')))"
            ]
          },
          "metadata": {
            "tags": []
          }
        },
        {
          "output_type": "stream",
          "text": [
            "\n"
          ],
          "name": "stdout"
        }
      ]
    },
    {
      "cell_type": "code",
      "metadata": {
        "id": "KMUoM7ToFFeK",
        "colab_type": "code",
        "outputId": "24b037e5-64a3-41ae-ae6d-a0c16b90a8a3",
        "colab": {
          "base_uri": "https://localhost:8080/",
          "height": 1000
        }
      },
      "source": [
        "print(resnet)"
      ],
      "execution_count": 17,
      "outputs": [
        {
          "output_type": "stream",
          "text": [
            "ResNet(\n",
            "  (conv1): Conv2d(3, 64, kernel_size=(7, 7), stride=(2, 2), padding=(3, 3), bias=False)\n",
            "  (bn1): BatchNorm2d(64, eps=1e-05, momentum=0.1, affine=True, track_running_stats=True)\n",
            "  (relu): ReLU(inplace=True)\n",
            "  (maxpool): MaxPool2d(kernel_size=3, stride=2, padding=1, dilation=1, ceil_mode=False)\n",
            "  (layer1): Sequential(\n",
            "    (0): BasicBlock(\n",
            "      (conv1): Conv2d(64, 64, kernel_size=(3, 3), stride=(1, 1), padding=(1, 1), bias=False)\n",
            "      (bn1): BatchNorm2d(64, eps=1e-05, momentum=0.1, affine=True, track_running_stats=True)\n",
            "      (relu): ReLU(inplace=True)\n",
            "      (conv2): Conv2d(64, 64, kernel_size=(3, 3), stride=(1, 1), padding=(1, 1), bias=False)\n",
            "      (bn2): BatchNorm2d(64, eps=1e-05, momentum=0.1, affine=True, track_running_stats=True)\n",
            "    )\n",
            "    (1): BasicBlock(\n",
            "      (conv1): Conv2d(64, 64, kernel_size=(3, 3), stride=(1, 1), padding=(1, 1), bias=False)\n",
            "      (bn1): BatchNorm2d(64, eps=1e-05, momentum=0.1, affine=True, track_running_stats=True)\n",
            "      (relu): ReLU(inplace=True)\n",
            "      (conv2): Conv2d(64, 64, kernel_size=(3, 3), stride=(1, 1), padding=(1, 1), bias=False)\n",
            "      (bn2): BatchNorm2d(64, eps=1e-05, momentum=0.1, affine=True, track_running_stats=True)\n",
            "    )\n",
            "  )\n",
            "  (layer2): Sequential(\n",
            "    (0): BasicBlock(\n",
            "      (conv1): Conv2d(64, 128, kernel_size=(3, 3), stride=(2, 2), padding=(1, 1), bias=False)\n",
            "      (bn1): BatchNorm2d(128, eps=1e-05, momentum=0.1, affine=True, track_running_stats=True)\n",
            "      (relu): ReLU(inplace=True)\n",
            "      (conv2): Conv2d(128, 128, kernel_size=(3, 3), stride=(1, 1), padding=(1, 1), bias=False)\n",
            "      (bn2): BatchNorm2d(128, eps=1e-05, momentum=0.1, affine=True, track_running_stats=True)\n",
            "      (downsample): Sequential(\n",
            "        (0): Conv2d(64, 128, kernel_size=(1, 1), stride=(2, 2), bias=False)\n",
            "        (1): BatchNorm2d(128, eps=1e-05, momentum=0.1, affine=True, track_running_stats=True)\n",
            "      )\n",
            "    )\n",
            "    (1): BasicBlock(\n",
            "      (conv1): Conv2d(128, 128, kernel_size=(3, 3), stride=(1, 1), padding=(1, 1), bias=False)\n",
            "      (bn1): BatchNorm2d(128, eps=1e-05, momentum=0.1, affine=True, track_running_stats=True)\n",
            "      (relu): ReLU(inplace=True)\n",
            "      (conv2): Conv2d(128, 128, kernel_size=(3, 3), stride=(1, 1), padding=(1, 1), bias=False)\n",
            "      (bn2): BatchNorm2d(128, eps=1e-05, momentum=0.1, affine=True, track_running_stats=True)\n",
            "    )\n",
            "  )\n",
            "  (layer3): Sequential(\n",
            "    (0): BasicBlock(\n",
            "      (conv1): Conv2d(128, 256, kernel_size=(3, 3), stride=(2, 2), padding=(1, 1), bias=False)\n",
            "      (bn1): BatchNorm2d(256, eps=1e-05, momentum=0.1, affine=True, track_running_stats=True)\n",
            "      (relu): ReLU(inplace=True)\n",
            "      (conv2): Conv2d(256, 256, kernel_size=(3, 3), stride=(1, 1), padding=(1, 1), bias=False)\n",
            "      (bn2): BatchNorm2d(256, eps=1e-05, momentum=0.1, affine=True, track_running_stats=True)\n",
            "      (downsample): Sequential(\n",
            "        (0): Conv2d(128, 256, kernel_size=(1, 1), stride=(2, 2), bias=False)\n",
            "        (1): BatchNorm2d(256, eps=1e-05, momentum=0.1, affine=True, track_running_stats=True)\n",
            "      )\n",
            "    )\n",
            "    (1): BasicBlock(\n",
            "      (conv1): Conv2d(256, 256, kernel_size=(3, 3), stride=(1, 1), padding=(1, 1), bias=False)\n",
            "      (bn1): BatchNorm2d(256, eps=1e-05, momentum=0.1, affine=True, track_running_stats=True)\n",
            "      (relu): ReLU(inplace=True)\n",
            "      (conv2): Conv2d(256, 256, kernel_size=(3, 3), stride=(1, 1), padding=(1, 1), bias=False)\n",
            "      (bn2): BatchNorm2d(256, eps=1e-05, momentum=0.1, affine=True, track_running_stats=True)\n",
            "    )\n",
            "  )\n",
            "  (layer4): Sequential(\n",
            "    (0): BasicBlock(\n",
            "      (conv1): Conv2d(256, 512, kernel_size=(3, 3), stride=(2, 2), padding=(1, 1), bias=False)\n",
            "      (bn1): BatchNorm2d(512, eps=1e-05, momentum=0.1, affine=True, track_running_stats=True)\n",
            "      (relu): ReLU(inplace=True)\n",
            "      (conv2): Conv2d(512, 512, kernel_size=(3, 3), stride=(1, 1), padding=(1, 1), bias=False)\n",
            "      (bn2): BatchNorm2d(512, eps=1e-05, momentum=0.1, affine=True, track_running_stats=True)\n",
            "      (downsample): Sequential(\n",
            "        (0): Conv2d(256, 512, kernel_size=(1, 1), stride=(2, 2), bias=False)\n",
            "        (1): BatchNorm2d(512, eps=1e-05, momentum=0.1, affine=True, track_running_stats=True)\n",
            "      )\n",
            "    )\n",
            "    (1): BasicBlock(\n",
            "      (conv1): Conv2d(512, 512, kernel_size=(3, 3), stride=(1, 1), padding=(1, 1), bias=False)\n",
            "      (bn1): BatchNorm2d(512, eps=1e-05, momentum=0.1, affine=True, track_running_stats=True)\n",
            "      (relu): ReLU(inplace=True)\n",
            "      (conv2): Conv2d(512, 512, kernel_size=(3, 3), stride=(1, 1), padding=(1, 1), bias=False)\n",
            "      (bn2): BatchNorm2d(512, eps=1e-05, momentum=0.1, affine=True, track_running_stats=True)\n",
            "    )\n",
            "  )\n",
            "  (avgpool): AdaptiveAvgPool2d(output_size=(1, 1))\n",
            "  (fc): Linear(in_features=512, out_features=1000, bias=True)\n",
            ")\n"
          ],
          "name": "stdout"
        }
      ]
    },
    {
      "cell_type": "code",
      "metadata": {
        "id": "sAr7hbbsdUE2",
        "colab_type": "code",
        "colab": {}
      },
      "source": [
        "batch_size = 16\n",
        "\n",
        "trainloader = torch.utils.data.DataLoader(trainset, batch_size=batch_size, shuffle=True)\n",
        "testloader = torch.utils.data.DataLoader(testset, batch_size=batch_size, shuffle=False)"
      ],
      "execution_count": 0,
      "outputs": []
    },
    {
      "cell_type": "code",
      "metadata": {
        "id": "t1KOHDdtFoK5",
        "colab_type": "code",
        "colab": {}
      },
      "source": [
        "for param in resnet.parameters():\n",
        "    param.requires_grad = False"
      ],
      "execution_count": 0,
      "outputs": []
    },
    {
      "cell_type": "code",
      "metadata": {
        "id": "LrL2ZlhrGwFL",
        "colab_type": "code",
        "colab": {}
      },
      "source": [
        "in_features = resnet.fc.in_features\n",
        "resnet.fc = nn.Linear(in_features, num_classes)"
      ],
      "execution_count": 0,
      "outputs": []
    },
    {
      "cell_type": "code",
      "metadata": {
        "id": "JUh2WWSWW5F2",
        "colab_type": "code",
        "colab": {
          "base_uri": "https://localhost:8080/",
          "height": 1000
        },
        "outputId": "a7206bc0-0ba4-4c33-c2b5-2c37527ca1b3"
      },
      "source": [
        "find_parameters(resnet.parameters())"
      ],
      "execution_count": 21,
      "outputs": [
        {
          "output_type": "stream",
          "text": [
            "torch.Size([64, 3, 7, 7])\n",
            "torch.Size([64])\n",
            "torch.Size([64])\n",
            "torch.Size([64, 64, 3, 3])\n",
            "torch.Size([64])\n",
            "torch.Size([64])\n",
            "torch.Size([64, 64, 3, 3])\n",
            "torch.Size([64])\n",
            "torch.Size([64])\n",
            "torch.Size([64, 64, 3, 3])\n",
            "torch.Size([64])\n",
            "torch.Size([64])\n",
            "torch.Size([64, 64, 3, 3])\n",
            "torch.Size([64])\n",
            "torch.Size([64])\n",
            "torch.Size([128, 64, 3, 3])\n",
            "torch.Size([128])\n",
            "torch.Size([128])\n",
            "torch.Size([128, 128, 3, 3])\n",
            "torch.Size([128])\n",
            "torch.Size([128])\n",
            "torch.Size([128, 64, 1, 1])\n",
            "torch.Size([128])\n",
            "torch.Size([128])\n",
            "torch.Size([128, 128, 3, 3])\n",
            "torch.Size([128])\n",
            "torch.Size([128])\n",
            "torch.Size([128, 128, 3, 3])\n",
            "torch.Size([128])\n",
            "torch.Size([128])\n",
            "torch.Size([256, 128, 3, 3])\n",
            "torch.Size([256])\n",
            "torch.Size([256])\n",
            "torch.Size([256, 256, 3, 3])\n",
            "torch.Size([256])\n",
            "torch.Size([256])\n",
            "torch.Size([256, 128, 1, 1])\n",
            "torch.Size([256])\n",
            "torch.Size([256])\n",
            "torch.Size([256, 256, 3, 3])\n",
            "torch.Size([256])\n",
            "torch.Size([256])\n",
            "torch.Size([256, 256, 3, 3])\n",
            "torch.Size([256])\n",
            "torch.Size([256])\n",
            "torch.Size([512, 256, 3, 3])\n",
            "torch.Size([512])\n",
            "torch.Size([512])\n",
            "torch.Size([512, 512, 3, 3])\n",
            "torch.Size([512])\n",
            "torch.Size([512])\n",
            "torch.Size([512, 256, 1, 1])\n",
            "torch.Size([512])\n",
            "torch.Size([512])\n",
            "torch.Size([512, 512, 3, 3])\n",
            "torch.Size([512])\n",
            "torch.Size([512])\n",
            "torch.Size([512, 512, 3, 3])\n",
            "torch.Size([512])\n",
            "torch.Size([512])\n",
            "torch.Size([10, 512])\n",
            "torch.Size([10])\n",
            "Total Parameters =  11181642\n"
          ],
          "name": "stdout"
        }
      ]
    },
    {
      "cell_type": "code",
      "metadata": {
        "id": "53REdyaaG8ap",
        "colab_type": "code",
        "outputId": "23e3c5b4-be4a-486a-a2c0-73e4a42566d7",
        "colab": {
          "base_uri": "https://localhost:8080/",
          "height": 50
        }
      },
      "source": [
        "for param in resnet.parameters():\n",
        "    if param.requires_grad:\n",
        "        print(param.shape)"
      ],
      "execution_count": 22,
      "outputs": [
        {
          "output_type": "stream",
          "text": [
            "torch.Size([10, 512])\n",
            "torch.Size([10])\n"
          ],
          "name": "stdout"
        }
      ]
    },
    {
      "cell_type": "code",
      "metadata": {
        "id": "vQTZ3X_pG_tT",
        "colab_type": "code",
        "colab": {}
      },
      "source": [
        "resnet = resnet.to(device)\n",
        "loss_fn = nn.CrossEntropyLoss()\n",
        "opt = optim.SGD(resnet.parameters(), lr=0.01)"
      ],
      "execution_count": 0,
      "outputs": []
    },
    {
      "cell_type": "code",
      "metadata": {
        "id": "mfFEeUOcayNe",
        "colab_type": "code",
        "colab": {}
      },
      "source": [
        "def evaluation(dataloader, model):\n",
        "    total, correct = 0, 0\n",
        "    for data in dataloader:\n",
        "        inputs, labels = data\n",
        "        inputs, labels = inputs.to(device), labels.to(device)\n",
        "        outputs = model(inputs)\n",
        "        _, pred = torch.max(outputs.data, 1)\n",
        "        total += labels.size(0)\n",
        "        correct += (pred == labels).sum().item()\n",
        "    return 100 * correct / total"
      ],
      "execution_count": 0,
      "outputs": []
    },
    {
      "cell_type": "code",
      "metadata": {
        "id": "rklYsln-Hcpj",
        "colab_type": "code",
        "outputId": "5bb8df24-cfe2-44fc-bcc9-cf5c6cf11c8e",
        "colab": {
          "base_uri": "https://localhost:8080/",
          "height": 1000
        }
      },
      "source": [
        "loss_epoch_arr = []\n",
        "max_epochs = 4\n",
        "\n",
        "min_loss = 1000\n",
        "\n",
        "n_iters = np.ceil(50000/batch_size)\n",
        "\n",
        "for epoch in range(max_epochs):\n",
        "\n",
        "    for i, data in enumerate(trainloader, 0):\n",
        "\n",
        "        inputs, labels = data\n",
        "        inputs, labels = inputs.to(device), labels.to(device)\n",
        "\n",
        "        opt.zero_grad()\n",
        "\n",
        "        outputs = resnet(inputs)\n",
        "        loss = loss_fn(outputs, labels)\n",
        "        loss.backward()\n",
        "        opt.step()\n",
        "        \n",
        "        if min_loss > loss.item():\n",
        "            min_loss = loss.item()\n",
        "            best_model = copy.deepcopy(resnet.state_dict())\n",
        "            print('Min loss %0.2f' % min_loss)\n",
        "        \n",
        "        if i % 100 == 0:\n",
        "            print('Iteration: %d/%d, Loss: %0.2f' % (i, n_iters, loss.item()))\n",
        "            \n",
        "        del inputs, labels, outputs\n",
        "        torch.cuda.empty_cache()\n",
        "        \n",
        "    loss_epoch_arr.append(loss.item())\n",
        "        \n",
        "    print('Epoch: %d/%d, Test acc: %0.2f, Train acc: %0.2f' % (\n",
        "        epoch, max_epochs, \n",
        "        evaluation(testloader, resnet), evaluation(trainloader, resnet)))\n",
        "    \n",
        "    \n",
        "plt.plot(loss_epoch_arr)\n",
        "plt.show()"
      ],
      "execution_count": 25,
      "outputs": [
        {
          "output_type": "stream",
          "text": [
            "Min loss 2.51\n",
            "Iteration: 0/3125, Loss: 2.51\n",
            "Min loss 2.29\n",
            "Min loss 2.12\n",
            "Min loss 2.01\n",
            "Min loss 1.91\n",
            "Min loss 1.90\n",
            "Min loss 1.85\n",
            "Min loss 1.80\n",
            "Min loss 1.71\n",
            "Min loss 1.62\n",
            "Min loss 1.55\n",
            "Iteration: 100/3125, Loss: 1.95\n",
            "Min loss 1.51\n",
            "Min loss 1.50\n",
            "Min loss 1.49\n",
            "Min loss 1.48\n",
            "Min loss 1.31\n",
            "Iteration: 200/3125, Loss: 1.81\n",
            "Min loss 1.27\n",
            "Min loss 1.26\n",
            "Min loss 1.19\n",
            "Min loss 1.18\n",
            "Iteration: 300/3125, Loss: 1.27\n",
            "Min loss 1.07\n",
            "Min loss 1.02\n",
            "Min loss 0.96\n",
            "Iteration: 400/3125, Loss: 1.34\n",
            "Min loss 0.92\n",
            "Min loss 0.76\n",
            "Iteration: 500/3125, Loss: 1.36\n",
            "Iteration: 600/3125, Loss: 1.15\n",
            "Iteration: 700/3125, Loss: 1.77\n",
            "Iteration: 800/3125, Loss: 1.54\n",
            "Iteration: 900/3125, Loss: 1.25\n",
            "Iteration: 1000/3125, Loss: 1.55\n",
            "Iteration: 1100/3125, Loss: 1.08\n",
            "Iteration: 1200/3125, Loss: 1.33\n",
            "Min loss 0.74\n",
            "Iteration: 1300/3125, Loss: 1.33\n",
            "Min loss 0.69\n",
            "Iteration: 1400/3125, Loss: 1.35\n",
            "Iteration: 1500/3125, Loss: 1.09\n",
            "Min loss 0.66\n",
            "Iteration: 1600/3125, Loss: 1.57\n",
            "Iteration: 1700/3125, Loss: 1.43\n",
            "Min loss 0.63\n",
            "Iteration: 1800/3125, Loss: 1.34\n",
            "Min loss 0.56\n",
            "Iteration: 1900/3125, Loss: 1.03\n",
            "Iteration: 2000/3125, Loss: 1.17\n",
            "Iteration: 2100/3125, Loss: 1.10\n",
            "Iteration: 2200/3125, Loss: 1.27\n",
            "Iteration: 2300/3125, Loss: 0.74\n",
            "Iteration: 2400/3125, Loss: 1.70\n",
            "Iteration: 2500/3125, Loss: 1.58\n",
            "Iteration: 2600/3125, Loss: 1.28\n",
            "Iteration: 2700/3125, Loss: 1.91\n",
            "Iteration: 2800/3125, Loss: 0.78\n",
            "Iteration: 2900/3125, Loss: 1.43\n",
            "Iteration: 3000/3125, Loss: 1.50\n",
            "Iteration: 3100/3125, Loss: 1.67\n",
            "Epoch: 0/4, Test acc: 55.60, Train acc: 56.03\n",
            "Iteration: 0/3125, Loss: 1.33\n",
            "Iteration: 100/3125, Loss: 1.45\n",
            "Iteration: 200/3125, Loss: 1.09\n",
            "Iteration: 300/3125, Loss: 1.38\n",
            "Iteration: 400/3125, Loss: 1.08\n",
            "Iteration: 500/3125, Loss: 1.93\n",
            "Iteration: 600/3125, Loss: 1.31\n",
            "Min loss 0.55\n",
            "Iteration: 700/3125, Loss: 1.11\n",
            "Iteration: 800/3125, Loss: 1.20\n",
            "Iteration: 900/3125, Loss: 1.39\n",
            "Iteration: 1000/3125, Loss: 1.99\n",
            "Iteration: 1100/3125, Loss: 1.48\n",
            "Min loss 0.55\n",
            "Iteration: 1200/3125, Loss: 1.23\n",
            "Iteration: 1300/3125, Loss: 1.47\n",
            "Iteration: 1400/3125, Loss: 1.02\n",
            "Min loss 0.37\n",
            "Iteration: 1500/3125, Loss: 0.76\n",
            "Iteration: 1600/3125, Loss: 0.95\n",
            "Iteration: 1700/3125, Loss: 1.28\n",
            "Iteration: 1800/3125, Loss: 1.03\n",
            "Iteration: 1900/3125, Loss: 1.26\n",
            "Iteration: 2000/3125, Loss: 1.58\n",
            "Iteration: 2100/3125, Loss: 0.98\n",
            "Iteration: 2200/3125, Loss: 1.10\n",
            "Iteration: 2300/3125, Loss: 1.35\n",
            "Iteration: 2400/3125, Loss: 0.80\n",
            "Iteration: 2500/3125, Loss: 1.22\n",
            "Iteration: 2600/3125, Loss: 1.13\n",
            "Iteration: 2700/3125, Loss: 1.05\n",
            "Iteration: 2800/3125, Loss: 1.23\n",
            "Iteration: 2900/3125, Loss: 1.41\n",
            "Iteration: 3000/3125, Loss: 1.78\n",
            "Iteration: 3100/3125, Loss: 0.98\n",
            "Epoch: 1/4, Test acc: 56.28, Train acc: 56.65\n",
            "Iteration: 0/3125, Loss: 1.11\n",
            "Iteration: 100/3125, Loss: 0.89\n",
            "Iteration: 200/3125, Loss: 1.38\n",
            "Iteration: 300/3125, Loss: 1.09\n",
            "Iteration: 400/3125, Loss: 1.07\n",
            "Iteration: 500/3125, Loss: 1.63\n",
            "Iteration: 600/3125, Loss: 1.05\n",
            "Iteration: 700/3125, Loss: 1.21\n",
            "Iteration: 800/3125, Loss: 1.54\n",
            "Iteration: 900/3125, Loss: 1.17\n",
            "Iteration: 1000/3125, Loss: 1.05\n",
            "Min loss 0.36\n",
            "Iteration: 1100/3125, Loss: 1.29\n",
            "Iteration: 1200/3125, Loss: 2.13\n",
            "Iteration: 1300/3125, Loss: 1.93\n",
            "Iteration: 1400/3125, Loss: 0.77\n",
            "Iteration: 1500/3125, Loss: 0.80\n",
            "Iteration: 1600/3125, Loss: 0.87\n",
            "Iteration: 1700/3125, Loss: 0.86\n",
            "Iteration: 1800/3125, Loss: 1.49\n",
            "Iteration: 1900/3125, Loss: 0.97\n",
            "Iteration: 2000/3125, Loss: 1.22\n",
            "Iteration: 2100/3125, Loss: 1.24\n",
            "Iteration: 2200/3125, Loss: 1.62\n",
            "Iteration: 2300/3125, Loss: 1.07\n",
            "Iteration: 2400/3125, Loss: 1.23\n",
            "Iteration: 2500/3125, Loss: 0.82\n",
            "Iteration: 2600/3125, Loss: 1.36\n",
            "Iteration: 2700/3125, Loss: 1.68\n",
            "Iteration: 2800/3125, Loss: 1.35\n",
            "Iteration: 2900/3125, Loss: 1.34\n",
            "Iteration: 3000/3125, Loss: 1.47\n",
            "Iteration: 3100/3125, Loss: 1.24\n",
            "Epoch: 2/4, Test acc: 55.69, Train acc: 56.05\n",
            "Iteration: 0/3125, Loss: 1.42\n",
            "Iteration: 100/3125, Loss: 1.17\n",
            "Iteration: 200/3125, Loss: 1.35\n",
            "Iteration: 300/3125, Loss: 1.21\n",
            "Iteration: 400/3125, Loss: 0.72\n",
            "Iteration: 500/3125, Loss: 1.29\n",
            "Iteration: 600/3125, Loss: 1.22\n",
            "Iteration: 700/3125, Loss: 1.12\n",
            "Iteration: 800/3125, Loss: 1.84\n",
            "Iteration: 900/3125, Loss: 1.23\n",
            "Iteration: 1000/3125, Loss: 1.54\n",
            "Iteration: 1100/3125, Loss: 1.03\n",
            "Iteration: 1200/3125, Loss: 0.90\n",
            "Iteration: 1300/3125, Loss: 0.91\n",
            "Iteration: 1400/3125, Loss: 0.81\n",
            "Iteration: 1500/3125, Loss: 1.35\n",
            "Iteration: 1600/3125, Loss: 1.16\n",
            "Iteration: 1700/3125, Loss: 1.18\n",
            "Iteration: 1800/3125, Loss: 1.64\n",
            "Iteration: 1900/3125, Loss: 2.06\n",
            "Iteration: 2000/3125, Loss: 1.43\n",
            "Iteration: 2100/3125, Loss: 1.04\n",
            "Iteration: 2200/3125, Loss: 1.10\n",
            "Iteration: 2300/3125, Loss: 0.79\n",
            "Iteration: 2400/3125, Loss: 1.12\n",
            "Iteration: 2500/3125, Loss: 1.20\n",
            "Min loss 0.34\n",
            "Iteration: 2600/3125, Loss: 0.95\n",
            "Iteration: 2700/3125, Loss: 0.89\n",
            "Iteration: 2800/3125, Loss: 1.12\n",
            "Iteration: 2900/3125, Loss: 1.52\n",
            "Iteration: 3000/3125, Loss: 1.46\n",
            "Iteration: 3100/3125, Loss: 1.92\n",
            "Epoch: 3/4, Test acc: 56.78, Train acc: 57.43\n"
          ],
          "name": "stdout"
        },
        {
          "output_type": "display_data",
          "data": {
            "image/png": "[encoded data removed]",
            "text/plain": [
              "<Figure size 432x288 with 1 Axes>"
            ]
          },
          "metadata": {
            "tags": []
          }
        }
      ]
    },
    {
      "cell_type": "code",
      "metadata": {
        "id": "SbetTwcrIMnQ",
        "colab_type": "code",
        "outputId": "6dfc2c59-6dcc-41f5-f057-d9c11190c8e7",
        "colab": {
          "base_uri": "https://localhost:8080/",
          "height": 34
        }
      },
      "source": [
        "resnet.load_state_dict(best_model)\n",
        "print(evaluation(trainloader, resnet), evaluation(testloader, resnet))"
      ],
      "execution_count": 26,
      "outputs": [
        {
          "output_type": "stream",
          "text": [
            "58.338 58.17\n"
          ],
          "name": "stdout"
        }
      ]
    }
  ]
}