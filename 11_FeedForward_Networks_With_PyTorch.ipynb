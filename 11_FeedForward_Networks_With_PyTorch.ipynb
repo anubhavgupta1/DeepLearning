{
  "nbformat": 4,
  "nbformat_minor": 0,
  "metadata": {
    "colab": {
      "name": "11_FeedForward_Networks_With_PyTorch.ipynb",
      "provenance": [],
      "include_colab_link": true
    },
    "kernelspec": {
      "name": "python3",
      "display_name": "Python 3"
    },
    "accelerator": "GPU"
  },
  "cells": [
    {
      "cell_type": "markdown",
      "metadata": {
        "id": "view-in-github",
        "colab_type": "text"
      },
      "source": [
        "<a href=\"https://colab.research.google.com/github/anubhavgupta1/DeepLearning/blob/master/11_FeedForward_Networks_With_PyTorch.ipynb\" target=\"_parent\"><img src=\"https://colab.research.google.com/assets/colab-badge.svg\" alt=\"Open In Colab\"/></a>"
      ]
    },
    {
      "cell_type": "markdown",
      "metadata": {
        "id": "UuAb0vJNGYt4",
        "colab_type": "text"
      },
      "source": [
        "## Outline\n",
        "\n",
        "* Recap of data\n",
        "* Feedforward network with Pytorch tensors and autograd\n",
        "* Using Pytorch's NN -> Functional, Linear, Sequential & Pytorch's Optim\n",
        "* Moving things to CUDA"
      ]
    },
    {
      "cell_type": "code",
      "metadata": {
        "id": "zi3i20NTF2LY",
        "colab_type": "code",
        "cellView": "both",
        "colab": {}
      },
      "source": [
        "import numpy as np\n",
        "import math\n",
        "import matplotlib.pyplot as plt\n",
        "import matplotlib.colors\n",
        "import pandas as pd\n",
        "from sklearn.model_selection import train_test_split\n",
        "from sklearn.metrics import accuracy_score, mean_squared_error, log_loss\n",
        "from tqdm import tqdm_notebook \n",
        "import seaborn as sns\n",
        "import time\n",
        "from IPython.display import HTML\n",
        "import warnings\n",
        "warnings.filterwarnings('ignore')\n",
        "\n",
        "from sklearn.preprocessing import OneHotEncoder\n",
        "from sklearn.datasets import make_blobs\n",
        "\n",
        "import torch\n",
        "import torch.nn.functional as F\n",
        "import torch.nn as nn\n",
        "from torch import optim"
      ],
      "execution_count": 0,
      "outputs": []
    },
    {
      "cell_type": "code",
      "metadata": {
        "id": "S-2v19fdGBpV",
        "colab_type": "code",
        "outputId": "03cf0ed3-58d6-44c7-ffb9-13864fd4436d",
        "cellView": "both",
        "colab": {
          "base_uri": "https://localhost:8080/",
          "height": 34
        }
      },
      "source": [
        "torch.manual_seed(0)"
      ],
      "execution_count": 2,
      "outputs": [
        {
          "output_type": "execute_result",
          "data": {
            "text/plain": [
              "<torch._C.Generator at 0x7f25bebe0ed0>"
            ]
          },
          "metadata": {
            "tags": []
          },
          "execution_count": 2
        }
      ]
    },
    {
      "cell_type": "code",
      "metadata": {
        "id": "KaNnf16vGFC8",
        "colab_type": "code",
        "cellView": "both",
        "colab": {}
      },
      "source": [
        "my_cmap = matplotlib.colors.LinearSegmentedColormap.from_list(\"\", [\"red\",\"yellow\",\"green\"])"
      ],
      "execution_count": 0,
      "outputs": []
    },
    {
      "cell_type": "markdown",
      "metadata": {
        "id": "t3h91SrKGem4",
        "colab_type": "text"
      },
      "source": [
        "## Generate Dataset"
      ]
    },
    {
      "cell_type": "code",
      "metadata": {
        "id": "7CiU06B-GG-6",
        "colab_type": "code",
        "outputId": "a2028abd-6c08-48bf-997f-23d5432ce2e5",
        "colab": {
          "base_uri": "https://localhost:8080/",
          "height": 34
        }
      },
      "source": [
        "data, labels = make_blobs(n_samples=1000, centers=4, n_features=2, random_state=0)\n",
        "print(data.shape, labels.shape)"
      ],
      "execution_count": 4,
      "outputs": [
        {
          "output_type": "stream",
          "text": [
            "(1000, 2) (1000,)\n"
          ],
          "name": "stdout"
        }
      ]
    },
    {
      "cell_type": "code",
      "metadata": {
        "id": "XOOGMkBAGIMy",
        "colab_type": "code",
        "outputId": "c571f97d-20cc-4cac-92e8-2283410604fe",
        "colab": {
          "base_uri": "https://localhost:8080/",
          "height": 265
        }
      },
      "source": [
        "plt.scatter(data[:,0], data[:,1], c=labels, cmap=my_cmap)\n",
        "plt.show()"
      ],
      "execution_count": 5,
      "outputs": [
        {
          "output_type": "display_data",
          "data": {
            "image/png": "[encoded data removed]",
            "text/plain": [
              "<Figure size 432x288 with 1 Axes>"
            ]
          },
          "metadata": {
            "tags": []
          }
        }
      ]
    },
    {
      "cell_type": "code",
      "metadata": {
        "id": "Eqblj3GsGMx6",
        "colab_type": "code",
        "outputId": "3ffe5be7-e25f-40c5-bfa1-7b40c06f8f85",
        "colab": {
          "base_uri": "https://localhost:8080/",
          "height": 34
        }
      },
      "source": [
        "X_train, X_val, Y_train, Y_val = train_test_split(data, labels, stratify=labels, random_state=0)\n",
        "print(X_train.shape, X_val.shape, labels.shape)"
      ],
      "execution_count": 6,
      "outputs": [
        {
          "output_type": "stream",
          "text": [
            "(750, 2) (250, 2) (1000,)\n"
          ],
          "name": "stdout"
        }
      ]
    },
    {
      "cell_type": "markdown",
      "metadata": {
        "id": "LnPj_IrhGiYe",
        "colab_type": "text"
      },
      "source": [
        "## Using torch tensors and autograd"
      ]
    },
    {
      "cell_type": "code",
      "metadata": {
        "id": "x3quRDoBOdvE",
        "colab_type": "code",
        "colab": {}
      },
      "source": [
        "X_train, Y_train, X_val, Y_val = map(torch.tensor, (X_train, Y_train, X_val, Y_val)) #conversion into torch tensors"
      ],
      "execution_count": 0,
      "outputs": []
    },
    {
      "cell_type": "code",
      "metadata": {
        "id": "S8gNaribO9aB",
        "colab_type": "code",
        "outputId": "45ce6b38-219e-4730-f246-7a78434f005e",
        "colab": {
          "base_uri": "https://localhost:8080/",
          "height": 34
        }
      },
      "source": [
        "print(X_train.shape, Y_train.shape)"
      ],
      "execution_count": 8,
      "outputs": [
        {
          "output_type": "stream",
          "text": [
            "torch.Size([750, 2]) torch.Size([750])\n"
          ],
          "name": "stdout"
        }
      ]
    },
    {
      "cell_type": "code",
      "metadata": {
        "id": "KAraetIwi0pw",
        "colab_type": "code",
        "outputId": "760e88aa-aeb8-4496-ab1b-60ad6bd6eaae",
        "colab": {
          "base_uri": "https://localhost:8080/",
          "height": 50
        }
      },
      "source": [
        "#Forward Pass\n",
        "a = torch.rand(2,4)\n",
        "print(a)\n"
      ],
      "execution_count": 9,
      "outputs": [
        {
          "output_type": "stream",
          "text": [
            "tensor([[0.4963, 0.7682, 0.0885, 0.1320],\n",
            "        [0.3074, 0.6341, 0.4901, 0.8964]])\n"
          ],
          "name": "stdout"
        }
      ]
    },
    {
      "cell_type": "code",
      "metadata": {
        "id": "0bdLMiDs5uKS",
        "colab_type": "code",
        "outputId": "62c32a36-cc16-4a87-8d88-ade695d95da0",
        "colab": {
          "base_uri": "https://localhost:8080/",
          "height": 50
        }
      },
      "source": [
        "#Forward Pass\n",
        "b = a.exp()\n",
        "print(b)\n"
      ],
      "execution_count": 10,
      "outputs": [
        {
          "output_type": "stream",
          "text": [
            "tensor([[1.6426, 2.1559, 1.0925, 1.1411],\n",
            "        [1.3599, 1.8853, 1.6325, 2.4509]])\n"
          ],
          "name": "stdout"
        }
      ]
    },
    {
      "cell_type": "code",
      "metadata": {
        "id": "i2r7RG-t5yLS",
        "colab_type": "code",
        "outputId": "e9878c3f-9fc4-4349-943e-6f354a4f0fe8",
        "colab": {
          "base_uri": "https://localhost:8080/",
          "height": 34
        }
      },
      "source": [
        "#Forward Pass\n",
        "print(b.sum(0)) # returns sum of columns \n"
      ],
      "execution_count": 11,
      "outputs": [
        {
          "output_type": "stream",
          "text": [
            "tensor([3.0025, 4.0412, 2.7250, 3.5920])\n"
          ],
          "name": "stdout"
        }
      ]
    },
    {
      "cell_type": "code",
      "metadata": {
        "id": "BtnbrThn524v",
        "colab_type": "code",
        "outputId": "6a45e398-efd5-447a-a941-ea4c2aecae44",
        "colab": {
          "base_uri": "https://localhost:8080/",
          "height": 34
        }
      },
      "source": [
        "#Forward Pass\n",
        "print(b.sum(1)) # returns sum of rows"
      ],
      "execution_count": 12,
      "outputs": [
        {
          "output_type": "stream",
          "text": [
            "tensor([6.0321, 7.3285])\n"
          ],
          "name": "stdout"
        }
      ]
    },
    {
      "cell_type": "code",
      "metadata": {
        "id": "OgI4Gauv58Ra",
        "colab_type": "code",
        "outputId": "33fcae16-c413-4ca8-9212-ae278c09d8dc",
        "colab": {
          "base_uri": "https://localhost:8080/",
          "height": 34
        }
      },
      "source": [
        "#Forward Pass\n",
        "print(b.sum(-1)) # returns sum of rows"
      ],
      "execution_count": 13,
      "outputs": [
        {
          "output_type": "stream",
          "text": [
            "tensor([6.0321, 7.3285])\n"
          ],
          "name": "stdout"
        }
      ]
    },
    {
      "cell_type": "code",
      "metadata": {
        "id": "AbQ_ZU2J6BiN",
        "colab_type": "code",
        "outputId": "faf0cfdc-e2ca-4cae-d22e-3124714ab56a",
        "colab": {
          "base_uri": "https://localhost:8080/",
          "height": 50
        }
      },
      "source": [
        "#Forward Pass\n",
        "print(b.sum(-1).shape) # 1 x 2\n",
        "print(b.sum(-1).unsqueeze(-1).shape) # 2 x 1"
      ],
      "execution_count": 14,
      "outputs": [
        {
          "output_type": "stream",
          "text": [
            "torch.Size([2])\n",
            "torch.Size([2, 1])\n"
          ],
          "name": "stdout"
        }
      ]
    },
    {
      "cell_type": "code",
      "metadata": {
        "id": "P-GGol1Z6Yf7",
        "colab_type": "code",
        "outputId": "f52be226-dd49-45b8-a7a0-74586a770d23",
        "colab": {
          "base_uri": "https://localhost:8080/",
          "height": 84
        }
      },
      "source": [
        "#Forward Pass\n",
        "c = b.sum(-1).unsqueeze(-1)\n",
        "d = c.sum(-1).unsqueeze(-1)\n",
        "print(b)\n",
        "print(c)"
      ],
      "execution_count": 15,
      "outputs": [
        {
          "output_type": "stream",
          "text": [
            "tensor([[1.6426, 2.1559, 1.0925, 1.1411],\n",
            "        [1.3599, 1.8853, 1.6325, 2.4509]])\n",
            "tensor([[6.0321],\n",
            "        [7.3285]])\n"
          ],
          "name": "stdout"
        }
      ]
    },
    {
      "cell_type": "code",
      "metadata": {
        "id": "mr9NovuU6jRV",
        "colab_type": "code",
        "outputId": "a21e6eb3-10a5-4a83-a50f-6f863aaac94c",
        "colab": {
          "base_uri": "https://localhost:8080/",
          "height": 50
        }
      },
      "source": [
        "#Forward Pass\n",
        "d = b/c\n",
        "print(d) #softmax\n"
      ],
      "execution_count": 16,
      "outputs": [
        {
          "output_type": "stream",
          "text": [
            "tensor([[0.2723, 0.3574, 0.1811, 0.1892],\n",
            "        [0.1856, 0.2573, 0.2228, 0.3344]])\n"
          ],
          "name": "stdout"
        }
      ]
    },
    {
      "cell_type": "code",
      "metadata": {
        "id": "nC_O9U1d5-6H",
        "colab_type": "code",
        "outputId": "fc46f9e6-984f-408e-d1a0-249d1c649e67",
        "colab": {
          "base_uri": "https://localhost:8080/",
          "height": 50
        }
      },
      "source": [
        "#Forward Pass\n",
        "print( d.sum(-1).unsqueeze(-1))"
      ],
      "execution_count": 17,
      "outputs": [
        {
          "output_type": "stream",
          "text": [
            "tensor([[1.0000],\n",
            "        [1.0000]])\n"
          ],
          "name": "stdout"
        }
      ]
    },
    {
      "cell_type": "code",
      "metadata": {
        "id": "2zdlH1UW-Huw",
        "colab_type": "code",
        "outputId": "d84c5cab-a2f4-4365-e31a-d2b937299327",
        "colab": {
          "base_uri": "https://localhost:8080/",
          "height": 34
        }
      },
      "source": [
        "# average Cross Entropy Loss\n",
        "y_hat = torch.tensor([[0.1, 0.2, 0.3, 0.4], [0.8, 0.1, 0.05, 0.05]])\n",
        "y = torch.tensor([2, 0])\n",
        "print(y)"
      ],
      "execution_count": 18,
      "outputs": [
        {
          "output_type": "stream",
          "text": [
            "tensor([2, 0])\n"
          ],
          "name": "stdout"
        }
      ]
    },
    {
      "cell_type": "code",
      "metadata": {
        "id": "iLcF6RtY-R9Z",
        "colab_type": "code",
        "outputId": "05971dc2-f47e-4420-d4d0-0c0501dfb005",
        "colab": {
          "base_uri": "https://localhost:8080/",
          "height": 34
        }
      },
      "source": [
        "# average Cross Entropy Loss\n",
        "t1 = y_hat.shape[0]\n",
        "print(t1)"
      ],
      "execution_count": 19,
      "outputs": [
        {
          "output_type": "stream",
          "text": [
            "2\n"
          ],
          "name": "stdout"
        }
      ]
    },
    {
      "cell_type": "code",
      "metadata": {
        "id": "niZrV5Vm-Z7w",
        "colab_type": "code",
        "outputId": "79009d92-ddbe-4138-c847-422093118d28",
        "colab": {
          "base_uri": "https://localhost:8080/",
          "height": 34
        }
      },
      "source": [
        "# average Cross Entropy Loss\n",
        "t2 = range(t1)\n",
        "print(t2)"
      ],
      "execution_count": 20,
      "outputs": [
        {
          "output_type": "stream",
          "text": [
            "range(0, 2)\n"
          ],
          "name": "stdout"
        }
      ]
    },
    {
      "cell_type": "code",
      "metadata": {
        "id": "7Ps04tuT-flR",
        "colab_type": "code",
        "outputId": "14a0c08f-2118-4666-a538-cc1033e6bed9",
        "colab": {
          "base_uri": "https://localhost:8080/",
          "height": 34
        }
      },
      "source": [
        "# average Cross Entropy Loss\n",
        "t3 = y_hat[t2, y]\n",
        "print(t3)"
      ],
      "execution_count": 21,
      "outputs": [
        {
          "output_type": "stream",
          "text": [
            "tensor([0.3000, 0.8000])\n"
          ],
          "name": "stdout"
        }
      ]
    },
    {
      "cell_type": "code",
      "metadata": {
        "id": "wIBvQnwU-uEi",
        "colab_type": "code",
        "outputId": "d4476242-b182-4446-dc35-b7ee252e7d2e",
        "colab": {
          "base_uri": "https://localhost:8080/",
          "height": 34
        }
      },
      "source": [
        "# average Cross Entropy Loss\n",
        "t4 = t3.log()\n",
        "print(t4)"
      ],
      "execution_count": 22,
      "outputs": [
        {
          "output_type": "stream",
          "text": [
            "tensor([-1.2040, -0.2231])\n"
          ],
          "name": "stdout"
        }
      ]
    },
    {
      "cell_type": "code",
      "metadata": {
        "id": "srZu12SY-zhU",
        "colab_type": "code",
        "outputId": "76460943-01b1-4756-8dd6-c616988a241e",
        "colab": {
          "base_uri": "https://localhost:8080/",
          "height": 34
        }
      },
      "source": [
        "# average Cross Entropy Loss\n",
        "t5 = -t4\n",
        "print(t5)"
      ],
      "execution_count": 23,
      "outputs": [
        {
          "output_type": "stream",
          "text": [
            "tensor([1.2040, 0.2231])\n"
          ],
          "name": "stdout"
        }
      ]
    },
    {
      "cell_type": "code",
      "metadata": {
        "id": "twJ2DyCK-4U2",
        "colab_type": "code",
        "outputId": "9a1c4c6a-4697-45d5-dd07-25a020ae2761",
        "colab": {
          "base_uri": "https://localhost:8080/",
          "height": 34
        }
      },
      "source": [
        "# average Cross Entropy Loss\n",
        "t6 = t5.mean()\n",
        "print(t6.item())"
      ],
      "execution_count": 24,
      "outputs": [
        {
          "output_type": "stream",
          "text": [
            "0.7135581970214844\n"
          ],
          "name": "stdout"
        }
      ]
    },
    {
      "cell_type": "code",
      "metadata": {
        "id": "HWSVq5egESsG",
        "colab_type": "code",
        "outputId": "5edeb63f-a32c-486b-d992-d43d297f5034",
        "colab": {
          "base_uri": "https://localhost:8080/",
          "height": 34
        }
      },
      "source": [
        "# average accuracy find if index in y and index of largest value in y_hat matches \n",
        "t11 = torch.argmax(y_hat, dim=1) # returns the index of highest value\n",
        "print(t11)"
      ],
      "execution_count": 25,
      "outputs": [
        {
          "output_type": "stream",
          "text": [
            "tensor([3, 0])\n"
          ],
          "name": "stdout"
        }
      ]
    },
    {
      "cell_type": "code",
      "metadata": {
        "id": "mmNDpYYuEho3",
        "colab_type": "code",
        "outputId": "2dce5b6b-932b-4f44-fa51-31de177d75d7",
        "colab": {
          "base_uri": "https://localhost:8080/",
          "height": 34
        }
      },
      "source": [
        "# average accuracy find if index in y and index of largest value in y_hat matches \n",
        "t12 = (t11 ==y) #returns boolean value\n",
        "t12"
      ],
      "execution_count": 26,
      "outputs": [
        {
          "output_type": "execute_result",
          "data": {
            "text/plain": [
              "tensor([False,  True])"
            ]
          },
          "metadata": {
            "tags": []
          },
          "execution_count": 26
        }
      ]
    },
    {
      "cell_type": "code",
      "metadata": {
        "id": "9_LVgaEqEoOF",
        "colab_type": "code",
        "outputId": "394f1faa-4065-4b28-b7b8-87294149d831",
        "colab": {
          "base_uri": "https://localhost:8080/",
          "height": 34
        }
      },
      "source": [
        "# average accuracy find if index in y and index of largest value in y_hat matches \n",
        "t13 = t12 .float()\n",
        "t13"
      ],
      "execution_count": 27,
      "outputs": [
        {
          "output_type": "execute_result",
          "data": {
            "text/plain": [
              "tensor([0., 1.])"
            ]
          },
          "metadata": {
            "tags": []
          },
          "execution_count": 27
        }
      ]
    },
    {
      "cell_type": "code",
      "metadata": {
        "id": "F1qdGyFQEugd",
        "colab_type": "code",
        "outputId": "444f0c42-6d83-4715-abb7-1a908890bc55",
        "colab": {
          "base_uri": "https://localhost:8080/",
          "height": 34
        }
      },
      "source": [
        "# average accuracy find if index in y and index of largest value in y_hat matches \n",
        "t14 = t13.mean()\n",
        "print(t14.item())\n",
        "#( == y).float().mean().item()"
      ],
      "execution_count": 28,
      "outputs": [
        {
          "output_type": "stream",
          "text": [
            "0.5\n"
          ],
          "name": "stdout"
        }
      ]
    },
    {
      "cell_type": "markdown",
      "metadata": {
        "id": "k9aklDVPfDxS",
        "colab_type": "text"
      },
      "source": [
        "![alt text](https://drive.google.com/uc?id=1Wnpd44PTe27Hcxv_5m2hGfv3ef7i00dI)"
      ]
    },
    {
      "cell_type": "code",
      "metadata": {
        "id": "Z57ivURJOqB-",
        "colab_type": "code",
        "colab": {}
      },
      "source": [
        "# Forward Propagation using PyTorch\n",
        "def model(x):\n",
        "  a1 = torch.matmul(x, weights1) + bias1 # (N, 2) x (2, 2) -> (N, 2)\n",
        "  h1 = a1.sigmoid() # (N, 2); PyTorch sigmoid function\n",
        "  a2 = torch.matmul(h1, weights2) + bias2 # (N, 2) x (2, 4) -> (N, 4)\n",
        "  h2 = a2.exp()/a2.exp().sum(-1).unsqueeze(-1) # (N, 4); softmax applied\n",
        "  return h2"
      ],
      "execution_count": 0,
      "outputs": []
    },
    {
      "cell_type": "code",
      "metadata": {
        "id": "K0DJId7vR7aJ",
        "colab_type": "code",
        "colab": {}
      },
      "source": [
        "# Cross Entropy Loss\n",
        "def loss_fn(y_hat, y):\n",
        "  return -(y_hat[range(y.shape[0]), y].log()).mean()"
      ],
      "execution_count": 0,
      "outputs": []
    },
    {
      "cell_type": "code",
      "metadata": {
        "id": "vZa-xupaa2i3",
        "colab_type": "code",
        "colab": {}
      },
      "source": [
        "def accuracy(y_hat, y):\n",
        "  pred = torch.argmax(y_hat, dim=1)\n",
        "  return (pred == y).float().mean()"
      ],
      "execution_count": 0,
      "outputs": []
    },
    {
      "cell_type": "code",
      "metadata": {
        "id": "eGNj27K0YcO_",
        "colab_type": "code",
        "outputId": "d08805d1-983e-467d-d83d-9a980d655e81",
        "colab": {
          "base_uri": "https://localhost:8080/",
          "height": 301
        }
      },
      "source": [
        "torch.manual_seed(0)\n",
        "weights1 = torch.randn(2, 2) / math.sqrt(2) #xavier initialisation\n",
        "weights1.requires_grad_()\n",
        "bias1 = torch.zeros(2, requires_grad=True) \n",
        "\n",
        "weights2 = torch.randn(2, 4) / math.sqrt(2) #xavier initialisation\n",
        "weights2.requires_grad_()\n",
        "bias2 = torch.zeros(4, requires_grad=True)\n",
        "\n",
        "learning_rate = 0.2\n",
        "epochs = 10000\n",
        "\n",
        "X_train = X_train.float()\n",
        "Y_train = Y_train.long()\n",
        "\n",
        "loss_arr = []\n",
        "acc_arr = []\n",
        "\n",
        "for epoch in range(epochs):\n",
        "  y_hat = model(X_train)\n",
        "  loss = loss_fn(y_hat, Y_train)\n",
        "  loss.backward()\n",
        "  loss_arr.append(loss.item())\n",
        "  acc_arr.append(accuracy(y_hat, Y_train))\n",
        "\n",
        "  with torch.no_grad():\n",
        "    weights1 -= weights1.grad * learning_rate\n",
        "    bias1 -= bias1.grad * learning_rate\n",
        "    weights2 -= weights2.grad * learning_rate\n",
        "    bias2 -= bias2.grad * learning_rate\n",
        "    \n",
        "    weights1.grad.zero_()\n",
        "    bias1.grad.zero_()\n",
        "    weights2.grad.zero_()\n",
        "    bias2.grad.zero_()\n",
        "\n",
        "plt.plot(loss_arr, 'r-')\n",
        "plt.plot(acc_arr, 'b-')\n",
        "plt.show()\n",
        "print('Loss before training', loss_arr[0])\n",
        "print('Loss after training', loss_arr[-1])"
      ],
      "execution_count": 32,
      "outputs": [
        {
          "output_type": "display_data",
          "data": {
            "image/png": "[encoded data removed]",
            "text/plain": [
              "<Figure size 432x288 with 1 Axes>"
            ]
          },
          "metadata": {
            "tags": []
          }
        },
        {
          "output_type": "stream",
          "text": [
            "Loss before training 1.5456441640853882\n",
            "Loss after training 0.19288592040538788\n"
          ],
          "name": "stdout"
        }
      ]
    },
    {
      "cell_type": "markdown",
      "metadata": {
        "id": "1fYBscrQJvyr",
        "colab_type": "text"
      },
      "source": [
        "## Using NN.Functional"
      ]
    },
    {
      "cell_type": "code",
      "metadata": {
        "id": "R7CMk4w52S5x",
        "colab_type": "code",
        "outputId": "0c816234-ce5f-4fe5-88bf-bc2a2e55f417",
        "colab": {
          "base_uri": "https://localhost:8080/",
          "height": 298
        }
      },
      "source": [
        "# import torch.nn.functional as F\n",
        "# all is same except cross - entropy loss\n",
        "\n",
        "torch.manual_seed(0)\n",
        "weights1 = torch.randn(2, 2) / math.sqrt(2)\n",
        "weights1.requires_grad_()\n",
        "bias1 = torch.zeros(2, requires_grad=True)\n",
        "\n",
        "weights2 = torch.randn(2, 4) / math.sqrt(2)\n",
        "weights2.requires_grad_()\n",
        "bias2 = torch.zeros(4, requires_grad=True)\n",
        "\n",
        "learning_rate = 0.2\n",
        "epochs = 10000\n",
        "\n",
        "loss_arr = []\n",
        "acc_arr = []\n",
        "\n",
        "for epoch in range(epochs):\n",
        "  y_hat = model(X_train)\n",
        "  loss = F.cross_entropy(y_hat, Y_train) # torch cross - entropy loss function\n",
        "  loss.backward()\n",
        "  loss_arr.append(loss.item())\n",
        "  acc_arr.append(accuracy(y_hat, Y_train))\n",
        "\n",
        "  with torch.no_grad():\n",
        "    weights1 -= weights1.grad * learning_rate\n",
        "    bias1 -= bias1.grad * learning_rate\n",
        "    weights2 -= weights2.grad * learning_rate\n",
        "    bias2 -= bias2.grad * learning_rate\n",
        "    weights1.grad.zero_()\n",
        "    bias1.grad.zero_()\n",
        "    weights2.grad.zero_()\n",
        "    bias2.grad.zero_()\n",
        "\n",
        "plt.plot(loss_arr, 'r-')\n",
        "plt.plot(acc_arr, 'b-')\n",
        "plt.show()\n",
        "print('Loss before training', loss_arr[0])\n",
        "print('Loss after training', loss_arr[-1])"
      ],
      "execution_count": 33,
      "outputs": [
        {
          "output_type": "display_data",
          "data": {
            "image/png": "[encoded data removed]",
            "text/plain": [
              "<Figure size 432x288 with 1 Axes>"
            ]
          },
          "metadata": {
            "tags": []
          }
        },
        {
          "output_type": "stream",
          "text": [
            "Loss before training 1.4111980199813843\n",
            "Loss after training 0.9561843872070312\n"
          ],
          "name": "stdout"
        }
      ]
    },
    {
      "cell_type": "markdown",
      "metadata": {
        "id": "TeLqKpJMKNf_",
        "colab_type": "text"
      },
      "source": [
        "## Using NN.Parameter"
      ]
    },
    {
      "cell_type": "code",
      "metadata": {
        "id": "1MYBX7qfHtuz",
        "colab_type": "code",
        "colab": {}
      },
      "source": [
        "#import torch.nn as nn"
      ],
      "execution_count": 0,
      "outputs": []
    },
    {
      "cell_type": "code",
      "metadata": {
        "id": "5-lao9OA3Buw",
        "colab_type": "code",
        "colab": {}
      },
      "source": [
        "class FirstNetwork(nn.Module):\n",
        "  \n",
        "  def __init__(self):\n",
        "    super().__init__()\n",
        "    torch.manual_seed(0)\n",
        "    self.weights1 = nn.Parameter(torch.randn(2, 2) / math.sqrt(2))\n",
        "    self.bias1 = nn.Parameter(torch.zeros(2))\n",
        "    self.weights2 = nn.Parameter(torch.randn(2, 4) / math.sqrt(2))\n",
        "    self.bias2 = nn.Parameter(torch.zeros(4))\n",
        "    \n",
        "  def forward(self, X):\n",
        "    a1 = torch.matmul(X, self.weights1) + self.bias1\n",
        "    h1 = a1.sigmoid()\n",
        "    a2 = torch.matmul(h1, self.weights2) + self.bias2\n",
        "    h2 = a2.exp()/a2.exp().sum(-1).unsqueeze(-1)\n",
        "    return h2"
      ],
      "execution_count": 0,
      "outputs": []
    },
    {
      "cell_type": "code",
      "metadata": {
        "id": "K4L4tDXA6Fju",
        "colab_type": "code",
        "colab": {}
      },
      "source": [
        "def fit(epochs = 1000, learning_rate = 1):\n",
        "  loss_arr = []\n",
        "  acc_arr = []\n",
        "  for epoch in range(epochs):\n",
        "    y_hat = fn(X_train)\n",
        "    loss = F.cross_entropy(y_hat, Y_train)\n",
        "    loss_arr.append(loss.item())\n",
        "    acc_arr.append(accuracy(y_hat, Y_train))\n",
        "\n",
        "    loss.backward()\n",
        "    with torch.no_grad():\n",
        "      for param in fn.parameters():\n",
        "        param -= learning_rate * param.grad\n",
        "      fn.zero_grad()\n",
        "        \n",
        "  plt.plot(loss_arr, 'r-')\n",
        "  plt.plot(acc_arr, 'b-')\n",
        "  plt.show()      \n",
        "  print('Loss before training', loss_arr[0])\n",
        "  print('Loss after training', loss_arr[-1])"
      ],
      "execution_count": 0,
      "outputs": []
    },
    {
      "cell_type": "code",
      "metadata": {
        "id": "KkLjg3FS6V9c",
        "colab_type": "code",
        "outputId": "1adc39b8-a5cc-415c-f503-23fe9da94fde",
        "colab": {
          "base_uri": "https://localhost:8080/",
          "height": 298
        }
      },
      "source": [
        "fn = FirstNetwork()\n",
        "fit()"
      ],
      "execution_count": 37,
      "outputs": [
        {
          "output_type": "display_data",
          "data": {
            "image/png": "[encoded data removed]",
            "text/plain": [
              "<Figure size 432x288 with 1 Axes>"
            ]
          },
          "metadata": {
            "tags": []
          }
        },
        {
          "output_type": "stream",
          "text": [
            "Loss before training 1.4111980199813843\n",
            "Loss after training 0.9939236044883728\n"
          ],
          "name": "stdout"
        }
      ]
    },
    {
      "cell_type": "markdown",
      "metadata": {
        "id": "wKP_tS8cKSv9",
        "colab_type": "text"
      },
      "source": [
        "## Using NN.Linear and Optim"
      ]
    },
    {
      "cell_type": "code",
      "metadata": {
        "id": "zaS9b1OH9tBz",
        "colab_type": "code",
        "colab": {}
      },
      "source": [
        "#import torch.nn as nn\n",
        "# fit function remains same \n",
        "\n",
        "class FirstNetwork_v1(nn.Module):\n",
        "  \n",
        "  def __init__(self):\n",
        "    super().__init__()\n",
        "    torch.manual_seed(0)\n",
        "    self.lin1 = nn.Linear(2, 2) # 2x 2 wights + 2 bias\n",
        "    self.lin2 = nn.Linear(2, 4) # 2x 4 wights + 4 bias\n",
        "    \n",
        "  def forward(self, X):\n",
        "    a1 = self.lin1(X) #torch.matmul(X, self.weights1) + self.bias1\n",
        "    h1 = a1.sigmoid()\n",
        "    a2 = self.lin2(h1) #torch.matmul(h1, self.weights2) + self.bias2\n",
        "    h2 = a2.exp()/a2.exp().sum(-1).unsqueeze(-1)\n",
        "    return h2"
      ],
      "execution_count": 0,
      "outputs": []
    },
    {
      "cell_type": "code",
      "metadata": {
        "id": "CpIaKmU1CAmd",
        "colab_type": "code",
        "outputId": "9eac7953-e910-485a-9382-db07aadbb427",
        "colab": {
          "base_uri": "https://localhost:8080/",
          "height": 298
        }
      },
      "source": [
        "fn = FirstNetwork_v1()\n",
        "fit()"
      ],
      "execution_count": 39,
      "outputs": [
        {
          "output_type": "display_data",
          "data": {
            "image/png": "[encoded data removed]",
            "text/plain": [
              "<Figure size 432x288 with 1 Axes>"
            ]
          },
          "metadata": {
            "tags": []
          }
        },
        {
          "output_type": "stream",
          "text": [
            "Loss before training 1.395160436630249\n",
            "Loss after training 0.8738410472869873\n"
          ],
          "name": "stdout"
        }
      ]
    },
    {
      "cell_type": "code",
      "metadata": {
        "id": "rffjj0tZCEC0",
        "colab_type": "code",
        "colab": {}
      },
      "source": [
        "#from torch import optim\n",
        "def fit_v1(epochs = 1000, learning_rate = 1):\n",
        "  loss_arr = []\n",
        "  acc_arr = []\n",
        "  opt = optim.SGD(fn.parameters(), lr=learning_rate) # here we can use any optimization algo\n",
        "  \n",
        "  for epoch in range(epochs):\n",
        "    y_hat = fn(X_train)\n",
        "    loss = F.cross_entropy(y_hat, Y_train)\n",
        "    loss_arr.append(loss.item())\n",
        "    acc_arr.append(accuracy(y_hat, Y_train))\n",
        "\n",
        "    loss.backward()\n",
        "    \"\"\"\n",
        "    with torch.no_grad():\n",
        "      for param in fn.parameters():\n",
        "        param -= learning_rate * param.grad\n",
        "    \"\"\"\n",
        "    opt.step()\n",
        "    opt.zero_grad() #fn.zero_grad()\n",
        "        \n",
        "  plt.plot(loss_arr, 'r-')\n",
        "  plt.plot(acc_arr, 'b-')\n",
        "  plt.show()      \n",
        "  print('Loss before training', loss_arr[0])\n",
        "  print('Loss after training', loss_arr[-1])"
      ],
      "execution_count": 0,
      "outputs": []
    },
    {
      "cell_type": "code",
      "metadata": {
        "id": "FTiOuArHC9iD",
        "colab_type": "code",
        "outputId": "b0614a23-3ad7-4afe-908a-de108aaaf8b5",
        "colab": {
          "base_uri": "https://localhost:8080/",
          "height": 298
        }
      },
      "source": [
        "fn = FirstNetwork_v1()\n",
        "fit_v1()"
      ],
      "execution_count": 41,
      "outputs": [
        {
          "output_type": "display_data",
          "data": {
            "image/png": "[encoded data removed]",
            "text/plain": [
              "<Figure size 432x288 with 1 Axes>"
            ]
          },
          "metadata": {
            "tags": []
          }
        },
        {
          "output_type": "stream",
          "text": [
            "Loss before training 1.395160436630249\n",
            "Loss after training 0.8738410472869873\n"
          ],
          "name": "stdout"
        }
      ]
    },
    {
      "cell_type": "markdown",
      "metadata": {
        "id": "VonDcC3FKbSR",
        "colab_type": "text"
      },
      "source": [
        "## Using NN.Sequential"
      ]
    },
    {
      "cell_type": "code",
      "metadata": {
        "id": "L-qr8a9cDdkm",
        "colab_type": "code",
        "colab": {}
      },
      "source": [
        "#import torch.nn as nn\n",
        "\n",
        "class FirstNetwork_v2(nn.Module):\n",
        "  \n",
        "  def __init__(self):\n",
        "    super().__init__()\n",
        "    torch.manual_seed(0)\n",
        "    self.net = nn.Sequential(\n",
        "        nn.Linear(2, 2), \n",
        "        nn.Sigmoid(), \n",
        "        nn.Linear(2, 4), \n",
        "        nn.Softmax()\n",
        "    )\n",
        "\n",
        "  def forward(self, X):\n",
        "    return self.net(X)"
      ],
      "execution_count": 0,
      "outputs": []
    },
    {
      "cell_type": "code",
      "metadata": {
        "id": "xohfM0eSDdei",
        "colab_type": "code",
        "outputId": "75491e3c-9ebd-43f3-c253-ce5ab87138d8",
        "colab": {
          "base_uri": "https://localhost:8080/",
          "height": 298
        }
      },
      "source": [
        "fn = FirstNetwork_v2()\n",
        "fit_v1()"
      ],
      "execution_count": 43,
      "outputs": [
        {
          "output_type": "display_data",
          "data": {
            "image/png": "[encoded data removed]",
            "text/plain": [
              "<Figure size 432x288 with 1 Axes>"
            ]
          },
          "metadata": {
            "tags": []
          }
        },
        {
          "output_type": "stream",
          "text": [
            "Loss before training 1.395160436630249\n",
            "Loss after training 0.8738410472869873\n"
          ],
          "name": "stdout"
        }
      ]
    },
    {
      "cell_type": "code",
      "metadata": {
        "id": "-Qts_kaoD4un",
        "colab_type": "code",
        "colab": {}
      },
      "source": [
        "def fit_v2(x, y, model, opt, loss_fn, epochs = 1000):\n",
        "  \n",
        "  for epoch in range(epochs):\n",
        "    loss = loss_fn(model(x), y) # model(x) = fn(x) = y_hat\n",
        "\n",
        "    loss.backward()\n",
        "    opt.step()\n",
        "    opt.zero_grad()\n",
        "    \n",
        "  return loss.item()"
      ],
      "execution_count": 0,
      "outputs": []
    },
    {
      "cell_type": "code",
      "metadata": {
        "id": "J6KfpPZKiNaC",
        "colab_type": "code",
        "outputId": "92244817-b61f-4f96-bb06-2fe5bd67242d",
        "colab": {
          "base_uri": "https://localhost:8080/",
          "height": 34
        }
      },
      "source": [
        "#import torch.nn.functional as F\n",
        "fn = FirstNetwork_v2()\n",
        "loss_fn = F.cross_entropy\n",
        "opt = optim.SGD(fn.parameters(), lr=1)\n",
        "fit_v2(X_train, Y_train, fn, opt, loss_fn)"
      ],
      "execution_count": 45,
      "outputs": [
        {
          "output_type": "execute_result",
          "data": {
            "text/plain": [
              "0.8738410472869873"
            ]
          },
          "metadata": {
            "tags": []
          },
          "execution_count": 45
        }
      ]
    },
    {
      "cell_type": "markdown",
      "metadata": {
        "id": "cUTJSDfPKd27",
        "colab_type": "text"
      },
      "source": [
        "## Running it on GPUs"
      ]
    },
    {
      "cell_type": "code",
      "metadata": {
        "id": "I92Jt55xodtb",
        "colab_type": "code",
        "outputId": "3c6a2740-9521-4d5f-a2df-c3fe5301735b",
        "colab": {
          "base_uri": "https://localhost:8080/",
          "height": 50
        }
      },
      "source": [
        "device = torch.device(\"cpu\")\n",
        "\n",
        "X_train=X_train.to(device)\n",
        "Y_train=Y_train.to(device)\n",
        "fn = FirstNetwork_v2()\n",
        "fn.to(device)\n",
        "tic = time.time()\n",
        "print('Final loss', fit_v2(X_train, Y_train, fn, opt, loss_fn))\n",
        "toc = time.time()\n",
        "print('Time taken', toc - tic)"
      ],
      "execution_count": 46,
      "outputs": [
        {
          "output_type": "stream",
          "text": [
            "Final loss 1.395160436630249\n",
            "Time taken 0.7913322448730469\n"
          ],
          "name": "stdout"
        }
      ]
    },
    {
      "cell_type": "code",
      "metadata": {
        "id": "1Vd-_xX9EId0",
        "colab_type": "code",
        "outputId": "c67e080a-db1d-4fcc-8695-b2862ea5a669",
        "colab": {
          "base_uri": "https://localhost:8080/",
          "height": 50
        }
      },
      "source": [
        "device = torch.device(\"cuda\")\n",
        "\n",
        "X_train=X_train.to(device)\n",
        "Y_train=Y_train.to(device)\n",
        "fn = FirstNetwork_v2()\n",
        "fn.to(device)\n",
        "tic = time.time()\n",
        "print('Final loss', fit_v2(X_train, Y_train, fn, opt, loss_fn))\n",
        "toc = time.time()\n",
        "print('Time taken', toc - tic)"
      ],
      "execution_count": 47,
      "outputs": [
        {
          "output_type": "stream",
          "text": [
            "Final loss 1.3951594829559326\n",
            "Time taken 0.7174546718597412\n"
          ],
          "name": "stdout"
        }
      ]
    },
    {
      "cell_type": "code",
      "metadata": {
        "id": "1qVL_qwyoAHQ",
        "colab_type": "code",
        "colab": {}
      },
      "source": [
        "class FirstNetwork_v3(nn.Module):\n",
        "  \n",
        "  def __init__(self):\n",
        "    super().__init__()\n",
        "    torch.manual_seed(0)\n",
        "    self.net = nn.Sequential(\n",
        "        nn.Linear(2, 128), \n",
        "        nn.Sigmoid(), \n",
        "        nn.Linear(128, 4), \n",
        "        nn.Softmax()\n",
        "    )\n",
        "\n",
        "  def forward(self, X):\n",
        "    return self.net(X)"
      ],
      "execution_count": 0,
      "outputs": []
    },
    {
      "cell_type": "code",
      "metadata": {
        "id": "q5n-OGQWV0Dr",
        "colab_type": "code",
        "outputId": "a067d903-15b1-4a55-f18b-d447b320a6f2",
        "colab": {
          "base_uri": "https://localhost:8080/",
          "height": 50
        }
      },
      "source": [
        "device = torch.device(\"cpu\")\n",
        "\n",
        "X_train=X_train.to(device)\n",
        "Y_train=Y_train.to(device)\n",
        "fn = FirstNetwork_v3()\n",
        "fn.to(device)\n",
        "tic = time.time()\n",
        "print('Final loss', fit_v2(X_train, Y_train, fn, opt, loss_fn))\n",
        "toc = time.time()\n",
        "print('Time taken', toc - tic)"
      ],
      "execution_count": 49,
      "outputs": [
        {
          "output_type": "stream",
          "text": [
            "Final loss 1.3985880613327026\n",
            "Time taken 1.5545718669891357\n"
          ],
          "name": "stdout"
        }
      ]
    },
    {
      "cell_type": "code",
      "metadata": {
        "id": "D9JFo6WSV9YH",
        "colab_type": "code",
        "outputId": "78d520e0-2f1f-489f-e9b2-8cad90053b59",
        "colab": {
          "base_uri": "https://localhost:8080/",
          "height": 50
        }
      },
      "source": [
        "device = torch.device(\"cuda\")\n",
        "\n",
        "X_train=X_train.to(device)\n",
        "Y_train=Y_train.to(device)\n",
        "fn = FirstNetwork_v3()\n",
        "fn.to(device)\n",
        "tic = time.time()\n",
        "print('Final loss', fit_v2(X_train, Y_train, fn, opt, loss_fn))\n",
        "toc = time.time()\n",
        "print('Time taken', toc - tic)"
      ],
      "execution_count": 50,
      "outputs": [
        {
          "output_type": "stream",
          "text": [
            "Final loss 1.398587942123413\n",
            "Time taken 0.6948082447052002\n"
          ],
          "name": "stdout"
        }
      ]
    },
    {
      "cell_type": "code",
      "metadata": {
        "colab_type": "code",
        "id": "Xx-04-ofWopc",
        "colab": {}
      },
      "source": [
        "class FirstNetwork_v4(nn.Module):\n",
        "  \n",
        "  def __init__(self):\n",
        "    super().__init__()\n",
        "    torch.manual_seed(0)\n",
        "    self.net = nn.Sequential(\n",
        "        nn.Linear(2, 1024), \n",
        "        nn.Sigmoid(), \n",
        "        nn.Linear(1024, 4), \n",
        "        nn.Softmax()\n",
        "    )\n",
        "\n",
        "  def forward(self, X):\n",
        "    return self.net(X)"
      ],
      "execution_count": 0,
      "outputs": []
    },
    {
      "cell_type": "code",
      "metadata": {
        "colab_type": "code",
        "outputId": "346d5aa2-b1de-4924-e3c0-5d76b1d96c7c",
        "id": "JrfclvpjWsBb",
        "colab": {
          "base_uri": "https://localhost:8080/",
          "height": 50
        }
      },
      "source": [
        "device = torch.device(\"cpu\")\n",
        "\n",
        "X_train=X_train.to(device)\n",
        "Y_train=Y_train.to(device)\n",
        "fn = FirstNetwork_v4()\n",
        "fn.to(device)\n",
        "tic = time.time()\n",
        "print('Final loss', fit_v2(X_train, Y_train, fn, opt, loss_fn))\n",
        "toc = time.time()\n",
        "print('Time taken', toc - tic)"
      ],
      "execution_count": 52,
      "outputs": [
        {
          "output_type": "stream",
          "text": [
            "Final loss 1.3988277912139893\n",
            "Time taken 6.524815559387207\n"
          ],
          "name": "stdout"
        }
      ]
    },
    {
      "cell_type": "code",
      "metadata": {
        "colab_type": "code",
        "outputId": "fa493e41-16a9-4196-ea7e-65e8c353e716",
        "id": "v_Yd5FJiWwrz",
        "colab": {
          "base_uri": "https://localhost:8080/",
          "height": 50
        }
      },
      "source": [
        "device = torch.device(\"cuda\")\n",
        "\n",
        "X_train=X_train.to(device)\n",
        "Y_train=Y_train.to(device)\n",
        "fn = FirstNetwork_v4()\n",
        "fn.to(device)\n",
        "tic = time.time()\n",
        "print('Final loss', fit_v2(X_train, Y_train, fn, opt, loss_fn))\n",
        "toc = time.time()\n",
        "print('Time taken', toc - tic)"
      ],
      "execution_count": 53,
      "outputs": [
        {
          "output_type": "stream",
          "text": [
            "Final loss 1.3988269567489624\n",
            "Time taken 0.687150239944458\n"
          ],
          "name": "stdout"
        }
      ]
    },
    {
      "cell_type": "code",
      "metadata": {
        "colab_type": "code",
        "id": "mLMWKVTWXhQV",
        "colab": {}
      },
      "source": [
        "class FirstNetwork_v5(nn.Module):\n",
        "  \n",
        "  def __init__(self):\n",
        "    super().__init__()\n",
        "    torch.manual_seed(0)\n",
        "    self.net = nn.Sequential(\n",
        "        nn.Linear(2, 1024*4), \n",
        "        nn.Sigmoid(), \n",
        "        nn.Linear(1024*4, 4), \n",
        "        nn.Softmax()\n",
        "    )\n",
        "\n",
        "  def forward(self, X):\n",
        "    return self.net(X)"
      ],
      "execution_count": 0,
      "outputs": []
    },
    {
      "cell_type": "code",
      "metadata": {
        "colab_type": "code",
        "outputId": "fe1dc59a-a8ff-4b72-faea-50a4cb0a5ace",
        "id": "DfX4qTKoXrJq",
        "colab": {
          "base_uri": "https://localhost:8080/",
          "height": 50
        }
      },
      "source": [
        "device = torch.device(\"cpu\")\n",
        "\n",
        "X_train=X_train.to(device)\n",
        "Y_train=Y_train.to(device)\n",
        "fn = FirstNetwork_v5()\n",
        "fn.to(device)\n",
        "tic = time.time()\n",
        "print('Final loss', fit_v2(X_train, Y_train, fn, opt, loss_fn))\n",
        "toc = time.time()\n",
        "print('Time taken', toc - tic)"
      ],
      "execution_count": 55,
      "outputs": [
        {
          "output_type": "stream",
          "text": [
            "Final loss 1.3890225887298584\n",
            "Time taken 26.66277313232422\n"
          ],
          "name": "stdout"
        }
      ]
    },
    {
      "cell_type": "code",
      "metadata": {
        "colab_type": "code",
        "outputId": "ddf84c33-ed39-47a7-a811-25606523c06c",
        "id": "vvi5YN1_XtNr",
        "colab": {
          "base_uri": "https://localhost:8080/",
          "height": 50
        }
      },
      "source": [
        "device = torch.device(\"cuda\")\n",
        "\n",
        "X_train=X_train.to(device)\n",
        "Y_train=Y_train.to(device)\n",
        "fn = FirstNetwork_v5()\n",
        "fn.to(device)\n",
        "tic = time.time()\n",
        "print('Final loss', fit_v2(X_train, Y_train, fn, opt, loss_fn))\n",
        "toc = time.time()\n",
        "print('Time taken', toc - tic)"
      ],
      "execution_count": 56,
      "outputs": [
        {
          "output_type": "stream",
          "text": [
            "Final loss 1.3890228271484375\n",
            "Time taken 0.8817875385284424\n"
          ],
          "name": "stdout"
        }
      ]
    }
  ]
}